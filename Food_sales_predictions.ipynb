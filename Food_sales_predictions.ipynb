{
  "nbformat": 4,
  "nbformat_minor": 0,
  "metadata": {
    "colab": {
      "name": "Food_sales_predictions.ipynb",
      "provenance": [],
      "mount_file_id": "1QIg29aEI0SMffFVy3O7ElWRSKSZNHxej",
      "authorship_tag": "ABX9TyNuvrJ13F9/eeHrz9l9UdCq",
      "include_colab_link": true
    },
    "kernelspec": {
      "name": "python3",
      "display_name": "Python 3"
    },
    "language_info": {
      "name": "python"
    }
  },
  "cells": [
    {
      "cell_type": "markdown",
      "metadata": {
        "id": "view-in-github",
        "colab_type": "text"
      },
      "source": [
        "<a href=\"https://colab.research.google.com/github/julianasaha/food-sales-predications/blob/main/Food_sales_predictions.ipynb\" target=\"_parent\"><img src=\"https://colab.research.google.com/assets/colab-badge.svg\" alt=\"Open In Colab\"/></a>"
      ]
    },
    {
      "cell_type": "code",
      "source": [
        "# Mount Drive\n",
        "from google.colab import drive\n",
        "drive.mount('/content/drive')"
      ],
      "metadata": {
        "id": "BpoTocAm6aq5",
        "outputId": "a80258d9-05f4-4c65-d264-7dc0c6b22bec",
        "colab": {
          "base_uri": "https://localhost:8080/"
        }
      },
      "execution_count": 362,
      "outputs": [
        {
          "output_type": "stream",
          "name": "stdout",
          "text": [
            "Drive already mounted at /content/drive; to attempt to forcibly remount, call drive.mount(\"/content/drive\", force_remount=True).\n"
          ]
        }
      ]
    },
    {
      "cell_type": "code",
      "execution_count": 363,
      "metadata": {
        "id": "XepyerYLE3vE"
      },
      "outputs": [],
      "source": [
        "# Import libraries\n",
        "import matplotlib.pyplot as plt\n",
        "import seaborn as sns\n",
        "import pandas as pd\n",
        "import numpy as np\n",
        "\n"
      ]
    },
    {
      "cell_type": "code",
      "source": [
        "# Load the data\n",
        "filename = '/content/sales_predictions.csv'\n",
        "df = pd.read_csv(filename)\n",
        "df_ml= df.copy()"
      ],
      "metadata": {
        "id": "lKotJgToGATN"
      },
      "execution_count": 364,
      "outputs": []
    },
    {
      "cell_type": "code",
      "source": [
        "# Size of the data (rows, columns)\n",
        "df.shape"
      ],
      "metadata": {
        "id": "KngEUHk25Rn3",
        "outputId": "5e34bc70-5568-4a21-980b-e8f5fa149a0f",
        "colab": {
          "base_uri": "https://localhost:8080/"
        }
      },
      "execution_count": 365,
      "outputs": [
        {
          "output_type": "execute_result",
          "data": {
            "text/plain": [
              "(8523, 12)"
            ]
          },
          "metadata": {},
          "execution_count": 365
        }
      ]
    },
    {
      "cell_type": "code",
      "source": [
        "# Check datatypes\n",
        "df.info()"
      ],
      "metadata": {
        "id": "92o05rgo6_R4",
        "outputId": "044a5683-a399-453e-e5c8-d6ada10cee1f",
        "colab": {
          "base_uri": "https://localhost:8080/"
        }
      },
      "execution_count": 366,
      "outputs": [
        {
          "output_type": "stream",
          "name": "stdout",
          "text": [
            "<class 'pandas.core.frame.DataFrame'>\n",
            "RangeIndex: 8523 entries, 0 to 8522\n",
            "Data columns (total 12 columns):\n",
            " #   Column                     Non-Null Count  Dtype  \n",
            "---  ------                     --------------  -----  \n",
            " 0   Item_Identifier            8523 non-null   object \n",
            " 1   Item_Weight                7060 non-null   float64\n",
            " 2   Item_Fat_Content           8523 non-null   object \n",
            " 3   Item_Visibility            8523 non-null   float64\n",
            " 4   Item_Type                  8523 non-null   object \n",
            " 5   Item_MRP                   8523 non-null   float64\n",
            " 6   Outlet_Identifier          8523 non-null   object \n",
            " 7   Outlet_Establishment_Year  8523 non-null   int64  \n",
            " 8   Outlet_Size                6113 non-null   object \n",
            " 9   Outlet_Location_Type       8523 non-null   object \n",
            " 10  Outlet_Type                8523 non-null   object \n",
            " 11  Item_Outlet_Sales          8523 non-null   float64\n",
            "dtypes: float64(4), int64(1), object(7)\n",
            "memory usage: 799.2+ KB\n"
          ]
        }
      ]
    },
    {
      "cell_type": "markdown",
      "source": [
        "There are 4 floats, 1 integer and 7 objects."
      ],
      "metadata": {
        "id": "cPOC9bW77dLc"
      }
    },
    {
      "cell_type": "code",
      "source": [
        "# Find duplicates\n",
        "df.duplicated().sum()"
      ],
      "metadata": {
        "id": "AAPK3dQp70UT",
        "outputId": "a5089b7c-52c3-47ec-ba79-db536f235cc2",
        "colab": {
          "base_uri": "https://localhost:8080/"
        }
      },
      "execution_count": 367,
      "outputs": [
        {
          "output_type": "execute_result",
          "data": {
            "text/plain": [
              "0"
            ]
          },
          "metadata": {},
          "execution_count": 367
        }
      ]
    },
    {
      "cell_type": "code",
      "source": [
        "# Identify missing values\n",
        "df.isna().sum()"
      ],
      "metadata": {
        "id": "6i3FWATI8axJ",
        "outputId": "35d15180-6fab-414e-cd50-ddf37b661604",
        "colab": {
          "base_uri": "https://localhost:8080/"
        }
      },
      "execution_count": 368,
      "outputs": [
        {
          "output_type": "execute_result",
          "data": {
            "text/plain": [
              "Item_Identifier                 0\n",
              "Item_Weight                  1463\n",
              "Item_Fat_Content                0\n",
              "Item_Visibility                 0\n",
              "Item_Type                       0\n",
              "Item_MRP                        0\n",
              "Outlet_Identifier               0\n",
              "Outlet_Establishment_Year       0\n",
              "Outlet_Size                  2410\n",
              "Outlet_Location_Type            0\n",
              "Outlet_Type                     0\n",
              "Item_Outlet_Sales               0\n",
              "dtype: int64"
            ]
          },
          "metadata": {},
          "execution_count": 368
        }
      ]
    },
    {
      "cell_type": "markdown",
      "source": [
        "There are 1463 out of 7060 values missing from Item_Weight. \n",
        "There are 2410 out of 6113 values missing from Outlet_Size. "
      ],
      "metadata": {
        "id": "q4lGXjqe9Mat"
      }
    },
    {
      "cell_type": "code",
      "source": [
        "# Address the missing values in the columns\n",
        "\n",
        "# Drop column\n",
        "df.drop(columns= ['Item_Weight'], inplace = True)"
      ],
      "metadata": {
        "id": "8aQLlUra9sSB"
      },
      "execution_count": 369,
      "outputs": []
    },
    {
      "cell_type": "code",
      "source": [
        "# Fill in the missing values\n",
        "df['Outlet_Size'].fillna('Missing', inplace=True)\n"
      ],
      "metadata": {
        "id": "fXfvmwONCwum"
      },
      "execution_count": 370,
      "outputs": []
    },
    {
      "cell_type": "markdown",
      "source": [
        "-  I have decided to remove the Item_weight column because I believe it is not essential information that will help increase prices. A lighter weight item can be just as vauable as a heavy item. \n"
      ],
      "metadata": {
        "id": "RSAHXiIq-M3W"
      }
    },
    {
      "cell_type": "markdown",
      "source": [
        "-  I have decided to fill in the missing values of Outlet_Size with 'Missing' because it is likely that we can find out the size of a store later by looking it up online or even looking at the google maps to  get an estimate on how big a store is.I also believe that keeping this column is important because the size of a store can impact sales as they are able to carry more products if the store is larger."
      ],
      "metadata": {
        "id": "QmhTKCzLEN2B"
      }
    },
    {
      "cell_type": "code",
      "source": [
        "# Check that missing values have been addressed\n",
        "df.isna().sum()"
      ],
      "metadata": {
        "id": "EBJvchrZGJbZ",
        "outputId": "5d95b15a-5457-4401-ec65-576210ec3dcf",
        "colab": {
          "base_uri": "https://localhost:8080/"
        }
      },
      "execution_count": 371,
      "outputs": [
        {
          "output_type": "execute_result",
          "data": {
            "text/plain": [
              "Item_Identifier              0\n",
              "Item_Fat_Content             0\n",
              "Item_Visibility              0\n",
              "Item_Type                    0\n",
              "Item_MRP                     0\n",
              "Outlet_Identifier            0\n",
              "Outlet_Establishment_Year    0\n",
              "Outlet_Size                  0\n",
              "Outlet_Location_Type         0\n",
              "Outlet_Type                  0\n",
              "Item_Outlet_Sales            0\n",
              "dtype: int64"
            ]
          },
          "metadata": {},
          "execution_count": 371
        }
      ]
    },
    {
      "cell_type": "code",
      "source": [
        "# Find and fix any inconsistent categories of data\n",
        "df['Item_Fat_Content'] = df['Item_Fat_Content'].replace('LF', 'Low Fat')\n",
        "df['Item_Fat_Content'] = df['Item_Fat_Content'].replace('low fat', 'Low Fat')\n",
        "df['Item_Fat_Content'] = df['Item_Fat_Content'].replace('reg', 'Regular')\n",
        "df['Item_Fat_Content'].value_counts()"
      ],
      "metadata": {
        "id": "uALTw4njGPxP",
        "outputId": "81ba978e-a47e-49d7-fefb-e965fff69bd8",
        "colab": {
          "base_uri": "https://localhost:8080/"
        }
      },
      "execution_count": 372,
      "outputs": [
        {
          "output_type": "execute_result",
          "data": {
            "text/plain": [
              "Low Fat    5517\n",
              "Regular    3006\n",
              "Name: Item_Fat_Content, dtype: int64"
            ]
          },
          "metadata": {},
          "execution_count": 372
        }
      ]
    },
    {
      "cell_type": "code",
      "source": [
        "# Obtain the summary statistics of each (min, max, mean) in the numerical columns\n",
        "df.describe().round(2)"
      ],
      "metadata": {
        "id": "JTS_TzfgGXZF",
        "outputId": "75594f85-ca35-4bd2-e535-200e7e0fd910",
        "colab": {
          "base_uri": "https://localhost:8080/",
          "height": 300
        }
      },
      "execution_count": 373,
      "outputs": [
        {
          "output_type": "execute_result",
          "data": {
            "text/plain": [
              "       Item_Visibility  Item_MRP  Outlet_Establishment_Year  Item_Outlet_Sales\n",
              "count          8523.00   8523.00                    8523.00            8523.00\n",
              "mean              0.07    140.99                    1997.83            2181.29\n",
              "std               0.05     62.28                       8.37            1706.50\n",
              "min               0.00     31.29                    1985.00              33.29\n",
              "25%               0.03     93.83                    1987.00             834.25\n",
              "50%               0.05    143.01                    1999.00            1794.33\n",
              "75%               0.09    185.64                    2004.00            3101.30\n",
              "max               0.33    266.89                    2009.00           13086.96"
            ],
            "text/html": [
              "\n",
              "  <div id=\"df-00edfc03-1caf-4f95-ae33-1064133b1688\">\n",
              "    <div class=\"colab-df-container\">\n",
              "      <div>\n",
              "<style scoped>\n",
              "    .dataframe tbody tr th:only-of-type {\n",
              "        vertical-align: middle;\n",
              "    }\n",
              "\n",
              "    .dataframe tbody tr th {\n",
              "        vertical-align: top;\n",
              "    }\n",
              "\n",
              "    .dataframe thead th {\n",
              "        text-align: right;\n",
              "    }\n",
              "</style>\n",
              "<table border=\"1\" class=\"dataframe\">\n",
              "  <thead>\n",
              "    <tr style=\"text-align: right;\">\n",
              "      <th></th>\n",
              "      <th>Item_Visibility</th>\n",
              "      <th>Item_MRP</th>\n",
              "      <th>Outlet_Establishment_Year</th>\n",
              "      <th>Item_Outlet_Sales</th>\n",
              "    </tr>\n",
              "  </thead>\n",
              "  <tbody>\n",
              "    <tr>\n",
              "      <th>count</th>\n",
              "      <td>8523.00</td>\n",
              "      <td>8523.00</td>\n",
              "      <td>8523.00</td>\n",
              "      <td>8523.00</td>\n",
              "    </tr>\n",
              "    <tr>\n",
              "      <th>mean</th>\n",
              "      <td>0.07</td>\n",
              "      <td>140.99</td>\n",
              "      <td>1997.83</td>\n",
              "      <td>2181.29</td>\n",
              "    </tr>\n",
              "    <tr>\n",
              "      <th>std</th>\n",
              "      <td>0.05</td>\n",
              "      <td>62.28</td>\n",
              "      <td>8.37</td>\n",
              "      <td>1706.50</td>\n",
              "    </tr>\n",
              "    <tr>\n",
              "      <th>min</th>\n",
              "      <td>0.00</td>\n",
              "      <td>31.29</td>\n",
              "      <td>1985.00</td>\n",
              "      <td>33.29</td>\n",
              "    </tr>\n",
              "    <tr>\n",
              "      <th>25%</th>\n",
              "      <td>0.03</td>\n",
              "      <td>93.83</td>\n",
              "      <td>1987.00</td>\n",
              "      <td>834.25</td>\n",
              "    </tr>\n",
              "    <tr>\n",
              "      <th>50%</th>\n",
              "      <td>0.05</td>\n",
              "      <td>143.01</td>\n",
              "      <td>1999.00</td>\n",
              "      <td>1794.33</td>\n",
              "    </tr>\n",
              "    <tr>\n",
              "      <th>75%</th>\n",
              "      <td>0.09</td>\n",
              "      <td>185.64</td>\n",
              "      <td>2004.00</td>\n",
              "      <td>3101.30</td>\n",
              "    </tr>\n",
              "    <tr>\n",
              "      <th>max</th>\n",
              "      <td>0.33</td>\n",
              "      <td>266.89</td>\n",
              "      <td>2009.00</td>\n",
              "      <td>13086.96</td>\n",
              "    </tr>\n",
              "  </tbody>\n",
              "</table>\n",
              "</div>\n",
              "      <button class=\"colab-df-convert\" onclick=\"convertToInteractive('df-00edfc03-1caf-4f95-ae33-1064133b1688')\"\n",
              "              title=\"Convert this dataframe to an interactive table.\"\n",
              "              style=\"display:none;\">\n",
              "        \n",
              "  <svg xmlns=\"http://www.w3.org/2000/svg\" height=\"24px\"viewBox=\"0 0 24 24\"\n",
              "       width=\"24px\">\n",
              "    <path d=\"M0 0h24v24H0V0z\" fill=\"none\"/>\n",
              "    <path d=\"M18.56 5.44l.94 2.06.94-2.06 2.06-.94-2.06-.94-.94-2.06-.94 2.06-2.06.94zm-11 1L8.5 8.5l.94-2.06 2.06-.94-2.06-.94L8.5 2.5l-.94 2.06-2.06.94zm10 10l.94 2.06.94-2.06 2.06-.94-2.06-.94-.94-2.06-.94 2.06-2.06.94z\"/><path d=\"M17.41 7.96l-1.37-1.37c-.4-.4-.92-.59-1.43-.59-.52 0-1.04.2-1.43.59L10.3 9.45l-7.72 7.72c-.78.78-.78 2.05 0 2.83L4 21.41c.39.39.9.59 1.41.59.51 0 1.02-.2 1.41-.59l7.78-7.78 2.81-2.81c.8-.78.8-2.07 0-2.86zM5.41 20L4 18.59l7.72-7.72 1.47 1.35L5.41 20z\"/>\n",
              "  </svg>\n",
              "      </button>\n",
              "      \n",
              "  <style>\n",
              "    .colab-df-container {\n",
              "      display:flex;\n",
              "      flex-wrap:wrap;\n",
              "      gap: 12px;\n",
              "    }\n",
              "\n",
              "    .colab-df-convert {\n",
              "      background-color: #E8F0FE;\n",
              "      border: none;\n",
              "      border-radius: 50%;\n",
              "      cursor: pointer;\n",
              "      display: none;\n",
              "      fill: #1967D2;\n",
              "      height: 32px;\n",
              "      padding: 0 0 0 0;\n",
              "      width: 32px;\n",
              "    }\n",
              "\n",
              "    .colab-df-convert:hover {\n",
              "      background-color: #E2EBFA;\n",
              "      box-shadow: 0px 1px 2px rgba(60, 64, 67, 0.3), 0px 1px 3px 1px rgba(60, 64, 67, 0.15);\n",
              "      fill: #174EA6;\n",
              "    }\n",
              "\n",
              "    [theme=dark] .colab-df-convert {\n",
              "      background-color: #3B4455;\n",
              "      fill: #D2E3FC;\n",
              "    }\n",
              "\n",
              "    [theme=dark] .colab-df-convert:hover {\n",
              "      background-color: #434B5C;\n",
              "      box-shadow: 0px 1px 3px 1px rgba(0, 0, 0, 0.15);\n",
              "      filter: drop-shadow(0px 1px 2px rgba(0, 0, 0, 0.3));\n",
              "      fill: #FFFFFF;\n",
              "    }\n",
              "  </style>\n",
              "\n",
              "      <script>\n",
              "        const buttonEl =\n",
              "          document.querySelector('#df-00edfc03-1caf-4f95-ae33-1064133b1688 button.colab-df-convert');\n",
              "        buttonEl.style.display =\n",
              "          google.colab.kernel.accessAllowed ? 'block' : 'none';\n",
              "\n",
              "        async function convertToInteractive(key) {\n",
              "          const element = document.querySelector('#df-00edfc03-1caf-4f95-ae33-1064133b1688');\n",
              "          const dataTable =\n",
              "            await google.colab.kernel.invokeFunction('convertToInteractive',\n",
              "                                                     [key], {});\n",
              "          if (!dataTable) return;\n",
              "\n",
              "          const docLinkHtml = 'Like what you see? Visit the ' +\n",
              "            '<a target=\"_blank\" href=https://colab.research.google.com/notebooks/data_table.ipynb>data table notebook</a>'\n",
              "            + ' to learn more about interactive tables.';\n",
              "          element.innerHTML = '';\n",
              "          dataTable['output_type'] = 'display_data';\n",
              "          await google.colab.output.renderOutput(dataTable, element);\n",
              "          const docLink = document.createElement('div');\n",
              "          docLink.innerHTML = docLinkHtml;\n",
              "          element.appendChild(docLink);\n",
              "        }\n",
              "      </script>\n",
              "    </div>\n",
              "  </div>\n",
              "  "
            ]
          },
          "metadata": {},
          "execution_count": 373
        }
      ]
    },
    {
      "cell_type": "markdown",
      "source": [
        "**Histogram**"
      ],
      "metadata": {
        "id": "3wfVrZ2LqhJa"
      }
    },
    {
      "cell_type": "code",
      "source": [
        "# Find out the quality of each type of item and using a histogram to represent the data\n",
        "df['Item_Type'].hist(bins='auto', edgecolor='black', facecolor='purple')\n",
        "plt.style.use('seaborn')\n",
        "plt.xlabel('Item Type')\n",
        "plt.ylabel('Count')\n",
        "plt.title('Total of Each Item',fontsize = 16)\n",
        "plt.xticks(rotation = 90)\n",
        "plt.grid(axis = 'x');"
      ],
      "metadata": {
        "colab": {
          "base_uri": "https://localhost:8080/",
          "height": 484
        },
        "id": "MWL1hM13qDGT",
        "outputId": "8c9dddae-decd-4237-a54e-d683d84126b3"
      },
      "execution_count": 374,
      "outputs": [
        {
          "output_type": "display_data",
          "data": {
            "text/plain": [
              "<Figure size 576x396 with 1 Axes>"
            ],
            "image/png": "[encoded data removed]"
          },
          "metadata": {}
        }
      ]
    },
    {
      "cell_type": "markdown",
      "source": [
        "The top three carried item types at these stores are \n",
        "\n",
        "1.   Fruit and Vegatables\n",
        "2.   Snack Foods\n",
        "3.   Household\n"
      ],
      "metadata": {
        "id": "ofyM5Ga12CbH"
      }
    },
    {
      "cell_type": "markdown",
      "source": [
        "**Boxplot**"
      ],
      "metadata": {
        "id": "SR-aSNfBqkN-"
      }
    },
    {
      "cell_type": "code",
      "source": [
        "# Present a five number summaray for each store using a boxplot\n",
        "sns.boxplot(data=df, x='Outlet_Type', y='Item_Outlet_Sales',orient='v', saturation=1,\n",
        "            order=['Supermarket Type1', 'Supermarket Type2','Supermarket Type3','Grocery Store'], palette=\"Spectral\");"
      ],
      "metadata": {
        "colab": {
          "base_uri": "https://localhost:8080/",
          "height": 361
        },
        "id": "ZWosT4WUqlxb",
        "outputId": "37d0c664-6c17-4e4e-ac4d-71e45c314b08"
      },
      "execution_count": 375,
      "outputs": [
        {
          "output_type": "display_data",
          "data": {
            "text/plain": [
              "<Figure size 576x396 with 1 Axes>"
            ],
            "image/png": "[encoded data removed]"
          },
          "metadata": {}
        }
      ]
    },
    {
      "cell_type": "markdown",
      "source": [
        "The boxplot indicates that Supermarket 'Type3' has the highest sales while 'Grocery Store' has the lowest."
      ],
      "metadata": {
        "id": "c4MqxcDnYaCH"
      }
    },
    {
      "cell_type": "markdown",
      "source": [
        "**Heatmap**"
      ],
      "metadata": {
        "id": "6KZmPNlfqnan"
      }
    },
    {
      "cell_type": "code",
      "source": [
        "# Find the correlation coefficients between two variables \n",
        "corr = df.corr()\n",
        "plt.figure(figsize=(10,10))\n",
        "sns.heatmap(corr, cmap='Spectral', annot=True, );"
      ],
      "metadata": {
        "colab": {
          "base_uri": "https://localhost:8080/",
          "height": 596
        },
        "id": "SHKTNUNEqoah",
        "outputId": "21791a29-478e-4282-d827-9976364772d9"
      },
      "execution_count": 376,
      "outputs": [
        {
          "output_type": "display_data",
          "data": {
            "text/plain": [
              "<Figure size 720x720 with 2 Axes>"
            ],
            "image/png": "[encoded data removed]"
          },
          "metadata": {}
        }
      ]
    },
    {
      "cell_type": "markdown",
      "source": [
        "The strongest correlation indicated in this graph is between 'Item_MRP' and the weakest correlation is between 'Item_Visibility' and 'Item_Outlet_Sales'. Overall, there isn't any strong correlations, only moderate and low."
      ],
      "metadata": {
        "id": "eoJbKJEXeqiL"
      }
    },
    {
      "cell_type": "markdown",
      "source": [
        "**Bar Chart**"
      ],
      "metadata": {
        "id": "BG2b2gRr67Qt"
      }
    },
    {
      "cell_type": "code",
      "source": [
        "#graph the visibilty rate at each store \n",
        "ax = sns.barplot(data= df, x= 'Outlet_Type', y= 'Item_Visibility');\n",
        "ax.set_title('Visibilty Rate at Each Outlet')\n",
        "ax.set_ylabel('Percentage', )\n",
        "ax.set_xlabel('Outlet Type')\n",
        "plt.rcParams['font.family'] = 'fantasy'\n",
        "plt.rcParams['axes.labelsize'] = 'x-large'\n",
        "sns.set_theme(style=\"whitegrid\", palette=\"Spectral\")"
      ],
      "metadata": {
        "id": "kKttZltmGzUT",
        "outputId": "dbd0fca0-9ccc-4ec5-894c-6993d198f85e",
        "colab": {
          "base_uri": "https://localhost:8080/",
          "height": 377
        }
      },
      "execution_count": 377,
      "outputs": [
        {
          "output_type": "display_data",
          "data": {
            "text/plain": [
              "<Figure size 576x396 with 1 Axes>"
            ],
            "image/png": "[encoded data removed]"
          },
          "metadata": {}
        }
      ]
    },
    {
      "cell_type": "markdown",
      "source": [
        "We can see here that 'Grocery Store' has a significantly higher percentage of display area although it is the store while the lowest sales. Havig a low percenatge of display area could be a factor when increasing food sales as it has worked for the other stores being compared."
      ],
      "metadata": {
        "id": "o-djRxvWU-OL"
      }
    },
    {
      "cell_type": "markdown",
      "source": [
        "**Scatter Plot**"
      ],
      "metadata": {
        "id": "MkORYiIS7AT7"
      }
    },
    {
      "cell_type": "code",
      "source": [
        "# Grapgh the years of the outlet type\n",
        "ax = sns.scatterplot(data=df, x = 'Outlet_Establishment_Year', y ='Item_Outlet_Sales', hue='Outlet_Type', palette = \"Spectral\", s=60)\n",
        "ax.legend(loc=(1.02,0))\n",
        "ax.set_title('Does the year of a store affect sales ?', fontsize=19);"
      ],
      "metadata": {
        "id": "_osJ9s14Vxvi",
        "outputId": "7caac885-d2fc-4cd6-d27d-88b027b04ecd",
        "colab": {
          "base_uri": "https://localhost:8080/",
          "height": 391
        }
      },
      "execution_count": 378,
      "outputs": [
        {
          "output_type": "display_data",
          "data": {
            "text/plain": [
              "<Figure size 576x396 with 1 Axes>"
            ],
            "image/png": "[encoded data removed]"
          },
          "metadata": {}
        }
      ]
    },
    {
      "cell_type": "markdown",
      "source": [
        "The two oldest outlets are 'Supermarket Type3' and 'Grocery Store'."
      ],
      "metadata": {
        "id": "4nFmFosDYi5S"
      }
    },
    {
      "cell_type": "markdown",
      "source": [
        "# Machine Learning Part"
      ],
      "metadata": {
        "id": "LI1qw-ZUm9hw"
      }
    },
    {
      "cell_type": "code",
      "source": [
        "# import libraries\n",
        "from sklearn.preprocessing import StandardScaler, OneHotEncoder\n",
        "from sklearn.impute import SimpleImputer\n",
        "from sklearn.compose import make_column_transformer, make_column_selector\n",
        "from sklearn.pipeline import make_pipeline\n",
        "from sklearn.model_selection import train_test_split\n",
        "from sklearn import set_config\n",
        "set_config(display='diagram')\n"
      ],
      "metadata": {
        "id": "MpGLNRzDnAoK"
      },
      "execution_count": 379,
      "outputs": []
    },
    {
      "cell_type": "code",
      "source": [
        "# load the data\n",
        "df_ml.head()\n"
      ],
      "metadata": {
        "id": "q1gHN_Y4nFcV",
        "outputId": "b9583bf0-e53d-4408-f94b-0b9dbbc01852",
        "colab": {
          "base_uri": "https://localhost:8080/",
          "height": 357
        }
      },
      "execution_count": 380,
      "outputs": [
        {
          "output_type": "execute_result",
          "data": {
            "text/plain": [
              "  Item_Identifier  Item_Weight Item_Fat_Content  Item_Visibility  \\\n",
              "0           FDA15         9.30          Low Fat         0.016047   \n",
              "1           DRC01         5.92          Regular         0.019278   \n",
              "2           FDN15        17.50          Low Fat         0.016760   \n",
              "3           FDX07        19.20          Regular         0.000000   \n",
              "4           NCD19         8.93          Low Fat         0.000000   \n",
              "\n",
              "               Item_Type  Item_MRP Outlet_Identifier  \\\n",
              "0                  Dairy  249.8092            OUT049   \n",
              "1            Soft Drinks   48.2692            OUT018   \n",
              "2                   Meat  141.6180            OUT049   \n",
              "3  Fruits and Vegetables  182.0950            OUT010   \n",
              "4              Household   53.8614            OUT013   \n",
              "\n",
              "   Outlet_Establishment_Year Outlet_Size Outlet_Location_Type  \\\n",
              "0                       1999      Medium               Tier 1   \n",
              "1                       2009      Medium               Tier 3   \n",
              "2                       1999      Medium               Tier 1   \n",
              "3                       1998         NaN               Tier 3   \n",
              "4                       1987        High               Tier 3   \n",
              "\n",
              "         Outlet_Type  Item_Outlet_Sales  \n",
              "0  Supermarket Type1          3735.1380  \n",
              "1  Supermarket Type2           443.4228  \n",
              "2  Supermarket Type1          2097.2700  \n",
              "3      Grocery Store           732.3800  \n",
              "4  Supermarket Type1           994.7052  "
            ],
            "text/html": [
              "\n",
              "  <div id=\"df-97202878-4651-4278-8201-b88fb86f85f7\">\n",
              "    <div class=\"colab-df-container\">\n",
              "      <div>\n",
              "<style scoped>\n",
              "    .dataframe tbody tr th:only-of-type {\n",
              "        vertical-align: middle;\n",
              "    }\n",
              "\n",
              "    .dataframe tbody tr th {\n",
              "        vertical-align: top;\n",
              "    }\n",
              "\n",
              "    .dataframe thead th {\n",
              "        text-align: right;\n",
              "    }\n",
              "</style>\n",
              "<table border=\"1\" class=\"dataframe\">\n",
              "  <thead>\n",
              "    <tr style=\"text-align: right;\">\n",
              "      <th></th>\n",
              "      <th>Item_Identifier</th>\n",
              "      <th>Item_Weight</th>\n",
              "      <th>Item_Fat_Content</th>\n",
              "      <th>Item_Visibility</th>\n",
              "      <th>Item_Type</th>\n",
              "      <th>Item_MRP</th>\n",
              "      <th>Outlet_Identifier</th>\n",
              "      <th>Outlet_Establishment_Year</th>\n",
              "      <th>Outlet_Size</th>\n",
              "      <th>Outlet_Location_Type</th>\n",
              "      <th>Outlet_Type</th>\n",
              "      <th>Item_Outlet_Sales</th>\n",
              "    </tr>\n",
              "  </thead>\n",
              "  <tbody>\n",
              "    <tr>\n",
              "      <th>0</th>\n",
              "      <td>FDA15</td>\n",
              "      <td>9.30</td>\n",
              "      <td>Low Fat</td>\n",
              "      <td>0.016047</td>\n",
              "      <td>Dairy</td>\n",
              "      <td>249.8092</td>\n",
              "      <td>OUT049</td>\n",
              "      <td>1999</td>\n",
              "      <td>Medium</td>\n",
              "      <td>Tier 1</td>\n",
              "      <td>Supermarket Type1</td>\n",
              "      <td>3735.1380</td>\n",
              "    </tr>\n",
              "    <tr>\n",
              "      <th>1</th>\n",
              "      <td>DRC01</td>\n",
              "      <td>5.92</td>\n",
              "      <td>Regular</td>\n",
              "      <td>0.019278</td>\n",
              "      <td>Soft Drinks</td>\n",
              "      <td>48.2692</td>\n",
              "      <td>OUT018</td>\n",
              "      <td>2009</td>\n",
              "      <td>Medium</td>\n",
              "      <td>Tier 3</td>\n",
              "      <td>Supermarket Type2</td>\n",
              "      <td>443.4228</td>\n",
              "    </tr>\n",
              "    <tr>\n",
              "      <th>2</th>\n",
              "      <td>FDN15</td>\n",
              "      <td>17.50</td>\n",
              "      <td>Low Fat</td>\n",
              "      <td>0.016760</td>\n",
              "      <td>Meat</td>\n",
              "      <td>141.6180</td>\n",
              "      <td>OUT049</td>\n",
              "      <td>1999</td>\n",
              "      <td>Medium</td>\n",
              "      <td>Tier 1</td>\n",
              "      <td>Supermarket Type1</td>\n",
              "      <td>2097.2700</td>\n",
              "    </tr>\n",
              "    <tr>\n",
              "      <th>3</th>\n",
              "      <td>FDX07</td>\n",
              "      <td>19.20</td>\n",
              "      <td>Regular</td>\n",
              "      <td>0.000000</td>\n",
              "      <td>Fruits and Vegetables</td>\n",
              "      <td>182.0950</td>\n",
              "      <td>OUT010</td>\n",
              "      <td>1998</td>\n",
              "      <td>NaN</td>\n",
              "      <td>Tier 3</td>\n",
              "      <td>Grocery Store</td>\n",
              "      <td>732.3800</td>\n",
              "    </tr>\n",
              "    <tr>\n",
              "      <th>4</th>\n",
              "      <td>NCD19</td>\n",
              "      <td>8.93</td>\n",
              "      <td>Low Fat</td>\n",
              "      <td>0.000000</td>\n",
              "      <td>Household</td>\n",
              "      <td>53.8614</td>\n",
              "      <td>OUT013</td>\n",
              "      <td>1987</td>\n",
              "      <td>High</td>\n",
              "      <td>Tier 3</td>\n",
              "      <td>Supermarket Type1</td>\n",
              "      <td>994.7052</td>\n",
              "    </tr>\n",
              "  </tbody>\n",
              "</table>\n",
              "</div>\n",
              "      <button class=\"colab-df-convert\" onclick=\"convertToInteractive('df-97202878-4651-4278-8201-b88fb86f85f7')\"\n",
              "              title=\"Convert this dataframe to an interactive table.\"\n",
              "              style=\"display:none;\">\n",
              "        \n",
              "  <svg xmlns=\"http://www.w3.org/2000/svg\" height=\"24px\"viewBox=\"0 0 24 24\"\n",
              "       width=\"24px\">\n",
              "    <path d=\"M0 0h24v24H0V0z\" fill=\"none\"/>\n",
              "    <path d=\"M18.56 5.44l.94 2.06.94-2.06 2.06-.94-2.06-.94-.94-2.06-.94 2.06-2.06.94zm-11 1L8.5 8.5l.94-2.06 2.06-.94-2.06-.94L8.5 2.5l-.94 2.06-2.06.94zm10 10l.94 2.06.94-2.06 2.06-.94-2.06-.94-.94-2.06-.94 2.06-2.06.94z\"/><path d=\"M17.41 7.96l-1.37-1.37c-.4-.4-.92-.59-1.43-.59-.52 0-1.04.2-1.43.59L10.3 9.45l-7.72 7.72c-.78.78-.78 2.05 0 2.83L4 21.41c.39.39.9.59 1.41.59.51 0 1.02-.2 1.41-.59l7.78-7.78 2.81-2.81c.8-.78.8-2.07 0-2.86zM5.41 20L4 18.59l7.72-7.72 1.47 1.35L5.41 20z\"/>\n",
              "  </svg>\n",
              "      </button>\n",
              "      \n",
              "  <style>\n",
              "    .colab-df-container {\n",
              "      display:flex;\n",
              "      flex-wrap:wrap;\n",
              "      gap: 12px;\n",
              "    }\n",
              "\n",
              "    .colab-df-convert {\n",
              "      background-color: #E8F0FE;\n",
              "      border: none;\n",
              "      border-radius: 50%;\n",
              "      cursor: pointer;\n",
              "      display: none;\n",
              "      fill: #1967D2;\n",
              "      height: 32px;\n",
              "      padding: 0 0 0 0;\n",
              "      width: 32px;\n",
              "    }\n",
              "\n",
              "    .colab-df-convert:hover {\n",
              "      background-color: #E2EBFA;\n",
              "      box-shadow: 0px 1px 2px rgba(60, 64, 67, 0.3), 0px 1px 3px 1px rgba(60, 64, 67, 0.15);\n",
              "      fill: #174EA6;\n",
              "    }\n",
              "\n",
              "    [theme=dark] .colab-df-convert {\n",
              "      background-color: #3B4455;\n",
              "      fill: #D2E3FC;\n",
              "    }\n",
              "\n",
              "    [theme=dark] .colab-df-convert:hover {\n",
              "      background-color: #434B5C;\n",
              "      box-shadow: 0px 1px 3px 1px rgba(0, 0, 0, 0.15);\n",
              "      filter: drop-shadow(0px 1px 2px rgba(0, 0, 0, 0.3));\n",
              "      fill: #FFFFFF;\n",
              "    }\n",
              "  </style>\n",
              "\n",
              "      <script>\n",
              "        const buttonEl =\n",
              "          document.querySelector('#df-97202878-4651-4278-8201-b88fb86f85f7 button.colab-df-convert');\n",
              "        buttonEl.style.display =\n",
              "          google.colab.kernel.accessAllowed ? 'block' : 'none';\n",
              "\n",
              "        async function convertToInteractive(key) {\n",
              "          const element = document.querySelector('#df-97202878-4651-4278-8201-b88fb86f85f7');\n",
              "          const dataTable =\n",
              "            await google.colab.kernel.invokeFunction('convertToInteractive',\n",
              "                                                     [key], {});\n",
              "          if (!dataTable) return;\n",
              "\n",
              "          const docLinkHtml = 'Like what you see? Visit the ' +\n",
              "            '<a target=\"_blank\" href=https://colab.research.google.com/notebooks/data_table.ipynb>data table notebook</a>'\n",
              "            + ' to learn more about interactive tables.';\n",
              "          element.innerHTML = '';\n",
              "          dataTable['output_type'] = 'display_data';\n",
              "          await google.colab.output.renderOutput(dataTable, element);\n",
              "          const docLink = document.createElement('div');\n",
              "          docLink.innerHTML = docLinkHtml;\n",
              "          element.appendChild(docLink);\n",
              "        }\n",
              "      </script>\n",
              "    </div>\n",
              "  </div>\n",
              "  "
            ]
          },
          "metadata": {},
          "execution_count": 380
        }
      ]
    },
    {
      "cell_type": "code",
      "source": [
        "# inspect the data\n",
        "print(df_ml.info(), '\\n')\n",
        "print(df_ml.isna().sum())"
      ],
      "metadata": {
        "id": "g4NAdPI5ncAR",
        "outputId": "fada5d3e-5093-434c-9eae-9f35e542f169",
        "colab": {
          "base_uri": "https://localhost:8080/"
        }
      },
      "execution_count": 381,
      "outputs": [
        {
          "output_type": "stream",
          "name": "stdout",
          "text": [
            "<class 'pandas.core.frame.DataFrame'>\n",
            "RangeIndex: 8523 entries, 0 to 8522\n",
            "Data columns (total 12 columns):\n",
            " #   Column                     Non-Null Count  Dtype  \n",
            "---  ------                     --------------  -----  \n",
            " 0   Item_Identifier            8523 non-null   object \n",
            " 1   Item_Weight                7060 non-null   float64\n",
            " 2   Item_Fat_Content           8523 non-null   object \n",
            " 3   Item_Visibility            8523 non-null   float64\n",
            " 4   Item_Type                  8523 non-null   object \n",
            " 5   Item_MRP                   8523 non-null   float64\n",
            " 6   Outlet_Identifier          8523 non-null   object \n",
            " 7   Outlet_Establishment_Year  8523 non-null   int64  \n",
            " 8   Outlet_Size                6113 non-null   object \n",
            " 9   Outlet_Location_Type       8523 non-null   object \n",
            " 10  Outlet_Type                8523 non-null   object \n",
            " 11  Item_Outlet_Sales          8523 non-null   float64\n",
            "dtypes: float64(4), int64(1), object(7)\n",
            "memory usage: 799.2+ KB\n",
            "None \n",
            "\n",
            "Item_Identifier                 0\n",
            "Item_Weight                  1463\n",
            "Item_Fat_Content                0\n",
            "Item_Visibility                 0\n",
            "Item_Type                       0\n",
            "Item_MRP                        0\n",
            "Outlet_Identifier               0\n",
            "Outlet_Establishment_Year       0\n",
            "Outlet_Size                  2410\n",
            "Outlet_Location_Type            0\n",
            "Outlet_Type                     0\n",
            "Item_Outlet_Sales               0\n",
            "dtype: int64\n"
          ]
        }
      ]
    },
    {
      "cell_type": "code",
      "source": [
        "# Ordinal Encoding\n",
        "df_ml['Outlet_Size'].value_counts()\n",
        "# Ordinal Encoding 'Complication_risk'\n",
        "replacement_dictionary = {'High':2, 'Medium':1, 'Small':0}\n",
        "df_ml['Outlet_Size'].replace(replacement_dictionary, inplace=True)\n",
        "df_ml['Outlet_Size']\n"
      ],
      "metadata": {
        "id": "IGCGvm9VoAYP",
        "outputId": "8296ab86-33f0-4520-c927-1f721bbb0565",
        "colab": {
          "base_uri": "https://localhost:8080/"
        }
      },
      "execution_count": 382,
      "outputs": [
        {
          "output_type": "execute_result",
          "data": {
            "text/plain": [
              "0       1.0\n",
              "1       1.0\n",
              "2       1.0\n",
              "3       NaN\n",
              "4       2.0\n",
              "       ... \n",
              "8518    2.0\n",
              "8519    NaN\n",
              "8520    0.0\n",
              "8521    1.0\n",
              "8522    0.0\n",
              "Name: Outlet_Size, Length: 8523, dtype: float64"
            ]
          },
          "metadata": {},
          "execution_count": 382
        }
      ]
    },
    {
      "cell_type": "code",
      "source": [
        "# Divide features and target\n",
        "# Split\n",
        "# Remove irrevelant features that do not help predict our target\n",
        "# Identifers and Establishment Year have no correlation to sales\n",
        "X = df_ml.drop(columns=['Item_Outlet_Sales','Item_Identifier', 'Outlet_Identifier', 'Outlet_Establishment_Year'], axis=1)\n",
        "y = df_ml['Item_Outlet_Sales']\n",
        "X_train, X_test, y_train, y_test = train_test_split(X, y, random_state=42)"
      ],
      "metadata": {
        "id": "JSeZGzm1pC2U"
      },
      "execution_count": 383,
      "outputs": []
    },
    {
      "cell_type": "code",
      "source": [
        "# Category features\n",
        "cat_selector = make_column_selector(dtype_include='object')\n",
        "# Imputers\n",
        "const_imputer = SimpleImputer(strategy='constant')\n",
        "# One-hot encoder\n",
        "ohe = OneHotEncoder(handle_unknown='ignore', sparse=False)\n",
        "# Categorical pipeline\n",
        "categorical_pipe = make_pipeline(const_imputer, ohe)\n",
        "categorical_pipe\n"
      ],
      "metadata": {
        "id": "MpiYCQupqNZz",
        "outputId": "a8966098-f6fc-429f-8b94-96429635c3a4",
        "colab": {
          "base_uri": "https://localhost:8080/",
          "height": 126
        }
      },
      "execution_count": 384,
      "outputs": [
        {
          "output_type": "execute_result",
          "data": {
            "text/plain": [
              "Pipeline(steps=[('simpleimputer', SimpleImputer(strategy='constant')),\n",
              "                ('onehotencoder',\n",
              "                 OneHotEncoder(handle_unknown='ignore', sparse=False))])"
            ],
            "text/html": [
              "<style>#sk-4d88d039-63ce-4c36-ba6a-29b3c253e775 {color: black;background-color: white;}#sk-4d88d039-63ce-4c36-ba6a-29b3c253e775 pre{padding: 0;}#sk-4d88d039-63ce-4c36-ba6a-29b3c253e775 div.sk-toggleable {background-color: white;}#sk-4d88d039-63ce-4c36-ba6a-29b3c253e775 label.sk-toggleable__label {cursor: pointer;display: block;width: 100%;margin-bottom: 0;padding: 0.3em;box-sizing: border-box;text-align: center;}#sk-4d88d039-63ce-4c36-ba6a-29b3c253e775 label.sk-toggleable__label-arrow:before {content: \"▸\";float: left;margin-right: 0.25em;color: #696969;}#sk-4d88d039-63ce-4c36-ba6a-29b3c253e775 label.sk-toggleable__label-arrow:hover:before {color: black;}#sk-4d88d039-63ce-4c36-ba6a-29b3c253e775 div.sk-estimator:hover label.sk-toggleable__label-arrow:before {color: black;}#sk-4d88d039-63ce-4c36-ba6a-29b3c253e775 div.sk-toggleable__content {max-height: 0;max-width: 0;overflow: hidden;text-align: left;background-color: #f0f8ff;}#sk-4d88d039-63ce-4c36-ba6a-29b3c253e775 div.sk-toggleable__content pre {margin: 0.2em;color: black;border-radius: 0.25em;background-color: #f0f8ff;}#sk-4d88d039-63ce-4c36-ba6a-29b3c253e775 input.sk-toggleable__control:checked~div.sk-toggleable__content {max-height: 200px;max-width: 100%;overflow: auto;}#sk-4d88d039-63ce-4c36-ba6a-29b3c253e775 input.sk-toggleable__control:checked~label.sk-toggleable__label-arrow:before {content: \"▾\";}#sk-4d88d039-63ce-4c36-ba6a-29b3c253e775 div.sk-estimator input.sk-toggleable__control:checked~label.sk-toggleable__label {background-color: #d4ebff;}#sk-4d88d039-63ce-4c36-ba6a-29b3c253e775 div.sk-label input.sk-toggleable__control:checked~label.sk-toggleable__label {background-color: #d4ebff;}#sk-4d88d039-63ce-4c36-ba6a-29b3c253e775 input.sk-hidden--visually {border: 0;clip: rect(1px 1px 1px 1px);clip: rect(1px, 1px, 1px, 1px);height: 1px;margin: -1px;overflow: hidden;padding: 0;position: absolute;width: 1px;}#sk-4d88d039-63ce-4c36-ba6a-29b3c253e775 div.sk-estimator {font-family: monospace;background-color: #f0f8ff;border: 1px dotted black;border-radius: 0.25em;box-sizing: border-box;margin-bottom: 0.5em;}#sk-4d88d039-63ce-4c36-ba6a-29b3c253e775 div.sk-estimator:hover {background-color: #d4ebff;}#sk-4d88d039-63ce-4c36-ba6a-29b3c253e775 div.sk-parallel-item::after {content: \"\";width: 100%;border-bottom: 1px solid gray;flex-grow: 1;}#sk-4d88d039-63ce-4c36-ba6a-29b3c253e775 div.sk-label:hover label.sk-toggleable__label {background-color: #d4ebff;}#sk-4d88d039-63ce-4c36-ba6a-29b3c253e775 div.sk-serial::before {content: \"\";position: absolute;border-left: 1px solid gray;box-sizing: border-box;top: 2em;bottom: 0;left: 50%;}#sk-4d88d039-63ce-4c36-ba6a-29b3c253e775 div.sk-serial {display: flex;flex-direction: column;align-items: center;background-color: white;padding-right: 0.2em;padding-left: 0.2em;}#sk-4d88d039-63ce-4c36-ba6a-29b3c253e775 div.sk-item {z-index: 1;}#sk-4d88d039-63ce-4c36-ba6a-29b3c253e775 div.sk-parallel {display: flex;align-items: stretch;justify-content: center;background-color: white;}#sk-4d88d039-63ce-4c36-ba6a-29b3c253e775 div.sk-parallel::before {content: \"\";position: absolute;border-left: 1px solid gray;box-sizing: border-box;top: 2em;bottom: 0;left: 50%;}#sk-4d88d039-63ce-4c36-ba6a-29b3c253e775 div.sk-parallel-item {display: flex;flex-direction: column;position: relative;background-color: white;}#sk-4d88d039-63ce-4c36-ba6a-29b3c253e775 div.sk-parallel-item:first-child::after {align-self: flex-end;width: 50%;}#sk-4d88d039-63ce-4c36-ba6a-29b3c253e775 div.sk-parallel-item:last-child::after {align-self: flex-start;width: 50%;}#sk-4d88d039-63ce-4c36-ba6a-29b3c253e775 div.sk-parallel-item:only-child::after {width: 0;}#sk-4d88d039-63ce-4c36-ba6a-29b3c253e775 div.sk-dashed-wrapped {border: 1px dashed gray;margin: 0 0.4em 0.5em 0.4em;box-sizing: border-box;padding-bottom: 0.4em;background-color: white;position: relative;}#sk-4d88d039-63ce-4c36-ba6a-29b3c253e775 div.sk-label label {font-family: monospace;font-weight: bold;background-color: white;display: inline-block;line-height: 1.2em;}#sk-4d88d039-63ce-4c36-ba6a-29b3c253e775 div.sk-label-container {position: relative;z-index: 2;text-align: center;}#sk-4d88d039-63ce-4c36-ba6a-29b3c253e775 div.sk-container {/* jupyter's `normalize.less` sets `[hidden] { display: none; }` but bootstrap.min.css set `[hidden] { display: none !important; }` so we also need the `!important` here to be able to override the default hidden behavior on the sphinx rendered scikit-learn.org. See: https://github.com/scikit-learn/scikit-learn/issues/21755 */display: inline-block !important;position: relative;}#sk-4d88d039-63ce-4c36-ba6a-29b3c253e775 div.sk-text-repr-fallback {display: none;}</style><div id=\"sk-4d88d039-63ce-4c36-ba6a-29b3c253e775\" class=\"sk-top-container\"><div class=\"sk-text-repr-fallback\"><pre>Pipeline(steps=[(&#x27;simpleimputer&#x27;, SimpleImputer(strategy=&#x27;constant&#x27;)),\n",
              "                (&#x27;onehotencoder&#x27;,\n",
              "                 OneHotEncoder(handle_unknown=&#x27;ignore&#x27;, sparse=False))])</pre><b>Please rerun this cell to show the HTML repr or trust the notebook.</b></div><div class=\"sk-container\" hidden><div class=\"sk-item sk-dashed-wrapped\"><div class=\"sk-label-container\"><div class=\"sk-label sk-toggleable\"><input class=\"sk-toggleable__control sk-hidden--visually\" id=\"ce89074f-0196-4c50-ad41-f593c354a8f4\" type=\"checkbox\" ><label for=\"ce89074f-0196-4c50-ad41-f593c354a8f4\" class=\"sk-toggleable__label sk-toggleable__label-arrow\">Pipeline</label><div class=\"sk-toggleable__content\"><pre>Pipeline(steps=[(&#x27;simpleimputer&#x27;, SimpleImputer(strategy=&#x27;constant&#x27;)),\n",
              "                (&#x27;onehotencoder&#x27;,\n",
              "                 OneHotEncoder(handle_unknown=&#x27;ignore&#x27;, sparse=False))])</pre></div></div></div><div class=\"sk-serial\"><div class=\"sk-item\"><div class=\"sk-estimator sk-toggleable\"><input class=\"sk-toggleable__control sk-hidden--visually\" id=\"b652be28-db79-4e73-9587-122b541efdc3\" type=\"checkbox\" ><label for=\"b652be28-db79-4e73-9587-122b541efdc3\" class=\"sk-toggleable__label sk-toggleable__label-arrow\">SimpleImputer</label><div class=\"sk-toggleable__content\"><pre>SimpleImputer(strategy=&#x27;constant&#x27;)</pre></div></div></div><div class=\"sk-item\"><div class=\"sk-estimator sk-toggleable\"><input class=\"sk-toggleable__control sk-hidden--visually\" id=\"57e21cee-ad66-4ca2-9b1d-f88d5117a9f0\" type=\"checkbox\" ><label for=\"57e21cee-ad66-4ca2-9b1d-f88d5117a9f0\" class=\"sk-toggleable__label sk-toggleable__label-arrow\">OneHotEncoder</label><div class=\"sk-toggleable__content\"><pre>OneHotEncoder(handle_unknown=&#x27;ignore&#x27;, sparse=False)</pre></div></div></div></div></div></div></div>"
            ]
          },
          "metadata": {},
          "execution_count": 384
        }
      ]
    },
    {
      "cell_type": "code",
      "source": [
        "# Numerical features\n",
        "num_selector = make_column_selector(dtype_include='number')\n",
        "# Imputers\n",
        "mean_imputer = SimpleImputer(strategy='mean')\n",
        "# Scaler\n",
        "scaler = StandardScaler()\n",
        "# Numeric pipeline\n",
        "numeric_pipe = make_pipeline(mean_imputer, scaler)\n",
        "numeric_pipe\n"
      ],
      "metadata": {
        "id": "PscWc9nkqywG",
        "outputId": "ca041204-a1e0-4a19-d3c3-68f7455bd49b",
        "colab": {
          "base_uri": "https://localhost:8080/",
          "height": 126
        }
      },
      "execution_count": 385,
      "outputs": [
        {
          "output_type": "execute_result",
          "data": {
            "text/plain": [
              "Pipeline(steps=[('simpleimputer', SimpleImputer()),\n",
              "                ('standardscaler', StandardScaler())])"
            ],
            "text/html": [
              "<style>#sk-4a42736e-2756-464d-873a-d5cc9ee3308b {color: black;background-color: white;}#sk-4a42736e-2756-464d-873a-d5cc9ee3308b pre{padding: 0;}#sk-4a42736e-2756-464d-873a-d5cc9ee3308b div.sk-toggleable {background-color: white;}#sk-4a42736e-2756-464d-873a-d5cc9ee3308b label.sk-toggleable__label {cursor: pointer;display: block;width: 100%;margin-bottom: 0;padding: 0.3em;box-sizing: border-box;text-align: center;}#sk-4a42736e-2756-464d-873a-d5cc9ee3308b label.sk-toggleable__label-arrow:before {content: \"▸\";float: left;margin-right: 0.25em;color: #696969;}#sk-4a42736e-2756-464d-873a-d5cc9ee3308b label.sk-toggleable__label-arrow:hover:before {color: black;}#sk-4a42736e-2756-464d-873a-d5cc9ee3308b div.sk-estimator:hover label.sk-toggleable__label-arrow:before {color: black;}#sk-4a42736e-2756-464d-873a-d5cc9ee3308b div.sk-toggleable__content {max-height: 0;max-width: 0;overflow: hidden;text-align: left;background-color: #f0f8ff;}#sk-4a42736e-2756-464d-873a-d5cc9ee3308b div.sk-toggleable__content pre {margin: 0.2em;color: black;border-radius: 0.25em;background-color: #f0f8ff;}#sk-4a42736e-2756-464d-873a-d5cc9ee3308b input.sk-toggleable__control:checked~div.sk-toggleable__content {max-height: 200px;max-width: 100%;overflow: auto;}#sk-4a42736e-2756-464d-873a-d5cc9ee3308b input.sk-toggleable__control:checked~label.sk-toggleable__label-arrow:before {content: \"▾\";}#sk-4a42736e-2756-464d-873a-d5cc9ee3308b div.sk-estimator input.sk-toggleable__control:checked~label.sk-toggleable__label {background-color: #d4ebff;}#sk-4a42736e-2756-464d-873a-d5cc9ee3308b div.sk-label input.sk-toggleable__control:checked~label.sk-toggleable__label {background-color: #d4ebff;}#sk-4a42736e-2756-464d-873a-d5cc9ee3308b input.sk-hidden--visually {border: 0;clip: rect(1px 1px 1px 1px);clip: rect(1px, 1px, 1px, 1px);height: 1px;margin: -1px;overflow: hidden;padding: 0;position: absolute;width: 1px;}#sk-4a42736e-2756-464d-873a-d5cc9ee3308b div.sk-estimator {font-family: monospace;background-color: #f0f8ff;border: 1px dotted black;border-radius: 0.25em;box-sizing: border-box;margin-bottom: 0.5em;}#sk-4a42736e-2756-464d-873a-d5cc9ee3308b div.sk-estimator:hover {background-color: #d4ebff;}#sk-4a42736e-2756-464d-873a-d5cc9ee3308b div.sk-parallel-item::after {content: \"\";width: 100%;border-bottom: 1px solid gray;flex-grow: 1;}#sk-4a42736e-2756-464d-873a-d5cc9ee3308b div.sk-label:hover label.sk-toggleable__label {background-color: #d4ebff;}#sk-4a42736e-2756-464d-873a-d5cc9ee3308b div.sk-serial::before {content: \"\";position: absolute;border-left: 1px solid gray;box-sizing: border-box;top: 2em;bottom: 0;left: 50%;}#sk-4a42736e-2756-464d-873a-d5cc9ee3308b div.sk-serial {display: flex;flex-direction: column;align-items: center;background-color: white;padding-right: 0.2em;padding-left: 0.2em;}#sk-4a42736e-2756-464d-873a-d5cc9ee3308b div.sk-item {z-index: 1;}#sk-4a42736e-2756-464d-873a-d5cc9ee3308b div.sk-parallel {display: flex;align-items: stretch;justify-content: center;background-color: white;}#sk-4a42736e-2756-464d-873a-d5cc9ee3308b div.sk-parallel::before {content: \"\";position: absolute;border-left: 1px solid gray;box-sizing: border-box;top: 2em;bottom: 0;left: 50%;}#sk-4a42736e-2756-464d-873a-d5cc9ee3308b div.sk-parallel-item {display: flex;flex-direction: column;position: relative;background-color: white;}#sk-4a42736e-2756-464d-873a-d5cc9ee3308b div.sk-parallel-item:first-child::after {align-self: flex-end;width: 50%;}#sk-4a42736e-2756-464d-873a-d5cc9ee3308b div.sk-parallel-item:last-child::after {align-self: flex-start;width: 50%;}#sk-4a42736e-2756-464d-873a-d5cc9ee3308b div.sk-parallel-item:only-child::after {width: 0;}#sk-4a42736e-2756-464d-873a-d5cc9ee3308b div.sk-dashed-wrapped {border: 1px dashed gray;margin: 0 0.4em 0.5em 0.4em;box-sizing: border-box;padding-bottom: 0.4em;background-color: white;position: relative;}#sk-4a42736e-2756-464d-873a-d5cc9ee3308b div.sk-label label {font-family: monospace;font-weight: bold;background-color: white;display: inline-block;line-height: 1.2em;}#sk-4a42736e-2756-464d-873a-d5cc9ee3308b div.sk-label-container {position: relative;z-index: 2;text-align: center;}#sk-4a42736e-2756-464d-873a-d5cc9ee3308b div.sk-container {/* jupyter's `normalize.less` sets `[hidden] { display: none; }` but bootstrap.min.css set `[hidden] { display: none !important; }` so we also need the `!important` here to be able to override the default hidden behavior on the sphinx rendered scikit-learn.org. See: https://github.com/scikit-learn/scikit-learn/issues/21755 */display: inline-block !important;position: relative;}#sk-4a42736e-2756-464d-873a-d5cc9ee3308b div.sk-text-repr-fallback {display: none;}</style><div id=\"sk-4a42736e-2756-464d-873a-d5cc9ee3308b\" class=\"sk-top-container\"><div class=\"sk-text-repr-fallback\"><pre>Pipeline(steps=[(&#x27;simpleimputer&#x27;, SimpleImputer()),\n",
              "                (&#x27;standardscaler&#x27;, StandardScaler())])</pre><b>Please rerun this cell to show the HTML repr or trust the notebook.</b></div><div class=\"sk-container\" hidden><div class=\"sk-item sk-dashed-wrapped\"><div class=\"sk-label-container\"><div class=\"sk-label sk-toggleable\"><input class=\"sk-toggleable__control sk-hidden--visually\" id=\"51aa7e5a-a40c-46b7-8199-3e251f1d5aac\" type=\"checkbox\" ><label for=\"51aa7e5a-a40c-46b7-8199-3e251f1d5aac\" class=\"sk-toggleable__label sk-toggleable__label-arrow\">Pipeline</label><div class=\"sk-toggleable__content\"><pre>Pipeline(steps=[(&#x27;simpleimputer&#x27;, SimpleImputer()),\n",
              "                (&#x27;standardscaler&#x27;, StandardScaler())])</pre></div></div></div><div class=\"sk-serial\"><div class=\"sk-item\"><div class=\"sk-estimator sk-toggleable\"><input class=\"sk-toggleable__control sk-hidden--visually\" id=\"0517a7e3-661c-4edb-90cc-6b3d932a66f6\" type=\"checkbox\" ><label for=\"0517a7e3-661c-4edb-90cc-6b3d932a66f6\" class=\"sk-toggleable__label sk-toggleable__label-arrow\">SimpleImputer</label><div class=\"sk-toggleable__content\"><pre>SimpleImputer()</pre></div></div></div><div class=\"sk-item\"><div class=\"sk-estimator sk-toggleable\"><input class=\"sk-toggleable__control sk-hidden--visually\" id=\"212d210c-479f-4595-b5d8-3ab491842809\" type=\"checkbox\" ><label for=\"212d210c-479f-4595-b5d8-3ab491842809\" class=\"sk-toggleable__label sk-toggleable__label-arrow\">StandardScaler</label><div class=\"sk-toggleable__content\"><pre>StandardScaler()</pre></div></div></div></div></div></div></div>"
            ]
          },
          "metadata": {},
          "execution_count": 385
        }
      ]
    },
    {
      "cell_type": "code",
      "source": [
        "# Combine pipes\n",
        "# Tuples for Column Transformer\n",
        "number_tuple = (numeric_pipe, num_selector)\n",
        "category_tuple = (categorical_pipe, cat_selector)\n",
        "# ColumnTransformer\n",
        "preprocessor = make_column_transformer(number_tuple, category_tuple)\n",
        "preprocessor\n"
      ],
      "metadata": {
        "id": "Iy2BlYNVq-ez",
        "outputId": "10ddfaf7-6179-4bfd-e390-c6d821cbda7a",
        "colab": {
          "base_uri": "https://localhost:8080/",
          "height": 152
        }
      },
      "execution_count": 386,
      "outputs": [
        {
          "output_type": "execute_result",
          "data": {
            "text/plain": [
              "ColumnTransformer(transformers=[('pipeline-1',\n",
              "                                 Pipeline(steps=[('simpleimputer',\n",
              "                                                  SimpleImputer()),\n",
              "                                                 ('standardscaler',\n",
              "                                                  StandardScaler())]),\n",
              "                                 <sklearn.compose._column_transformer.make_column_selector object at 0x7fbd8e16e190>),\n",
              "                                ('pipeline-2',\n",
              "                                 Pipeline(steps=[('simpleimputer',\n",
              "                                                  SimpleImputer(strategy='constant')),\n",
              "                                                 ('onehotencoder',\n",
              "                                                  OneHotEncoder(handle_unknown='ignore',\n",
              "                                                                sparse=False))]),\n",
              "                                 <sklearn.compose._column_transformer.make_column_selector object at 0x7fbd8e46ed90>)])"
            ],
            "text/html": [
              "<style>#sk-721f0121-8481-4a46-9f4e-625f8722942f {color: black;background-color: white;}#sk-721f0121-8481-4a46-9f4e-625f8722942f pre{padding: 0;}#sk-721f0121-8481-4a46-9f4e-625f8722942f div.sk-toggleable {background-color: white;}#sk-721f0121-8481-4a46-9f4e-625f8722942f label.sk-toggleable__label {cursor: pointer;display: block;width: 100%;margin-bottom: 0;padding: 0.3em;box-sizing: border-box;text-align: center;}#sk-721f0121-8481-4a46-9f4e-625f8722942f label.sk-toggleable__label-arrow:before {content: \"▸\";float: left;margin-right: 0.25em;color: #696969;}#sk-721f0121-8481-4a46-9f4e-625f8722942f label.sk-toggleable__label-arrow:hover:before {color: black;}#sk-721f0121-8481-4a46-9f4e-625f8722942f div.sk-estimator:hover label.sk-toggleable__label-arrow:before {color: black;}#sk-721f0121-8481-4a46-9f4e-625f8722942f div.sk-toggleable__content {max-height: 0;max-width: 0;overflow: hidden;text-align: left;background-color: #f0f8ff;}#sk-721f0121-8481-4a46-9f4e-625f8722942f div.sk-toggleable__content pre {margin: 0.2em;color: black;border-radius: 0.25em;background-color: #f0f8ff;}#sk-721f0121-8481-4a46-9f4e-625f8722942f input.sk-toggleable__control:checked~div.sk-toggleable__content {max-height: 200px;max-width: 100%;overflow: auto;}#sk-721f0121-8481-4a46-9f4e-625f8722942f input.sk-toggleable__control:checked~label.sk-toggleable__label-arrow:before {content: \"▾\";}#sk-721f0121-8481-4a46-9f4e-625f8722942f div.sk-estimator input.sk-toggleable__control:checked~label.sk-toggleable__label {background-color: #d4ebff;}#sk-721f0121-8481-4a46-9f4e-625f8722942f div.sk-label input.sk-toggleable__control:checked~label.sk-toggleable__label {background-color: #d4ebff;}#sk-721f0121-8481-4a46-9f4e-625f8722942f input.sk-hidden--visually {border: 0;clip: rect(1px 1px 1px 1px);clip: rect(1px, 1px, 1px, 1px);height: 1px;margin: -1px;overflow: hidden;padding: 0;position: absolute;width: 1px;}#sk-721f0121-8481-4a46-9f4e-625f8722942f div.sk-estimator {font-family: monospace;background-color: #f0f8ff;border: 1px dotted black;border-radius: 0.25em;box-sizing: border-box;margin-bottom: 0.5em;}#sk-721f0121-8481-4a46-9f4e-625f8722942f div.sk-estimator:hover {background-color: #d4ebff;}#sk-721f0121-8481-4a46-9f4e-625f8722942f div.sk-parallel-item::after {content: \"\";width: 100%;border-bottom: 1px solid gray;flex-grow: 1;}#sk-721f0121-8481-4a46-9f4e-625f8722942f div.sk-label:hover label.sk-toggleable__label {background-color: #d4ebff;}#sk-721f0121-8481-4a46-9f4e-625f8722942f div.sk-serial::before {content: \"\";position: absolute;border-left: 1px solid gray;box-sizing: border-box;top: 2em;bottom: 0;left: 50%;}#sk-721f0121-8481-4a46-9f4e-625f8722942f div.sk-serial {display: flex;flex-direction: column;align-items: center;background-color: white;padding-right: 0.2em;padding-left: 0.2em;}#sk-721f0121-8481-4a46-9f4e-625f8722942f div.sk-item {z-index: 1;}#sk-721f0121-8481-4a46-9f4e-625f8722942f div.sk-parallel {display: flex;align-items: stretch;justify-content: center;background-color: white;}#sk-721f0121-8481-4a46-9f4e-625f8722942f div.sk-parallel::before {content: \"\";position: absolute;border-left: 1px solid gray;box-sizing: border-box;top: 2em;bottom: 0;left: 50%;}#sk-721f0121-8481-4a46-9f4e-625f8722942f div.sk-parallel-item {display: flex;flex-direction: column;position: relative;background-color: white;}#sk-721f0121-8481-4a46-9f4e-625f8722942f div.sk-parallel-item:first-child::after {align-self: flex-end;width: 50%;}#sk-721f0121-8481-4a46-9f4e-625f8722942f div.sk-parallel-item:last-child::after {align-self: flex-start;width: 50%;}#sk-721f0121-8481-4a46-9f4e-625f8722942f div.sk-parallel-item:only-child::after {width: 0;}#sk-721f0121-8481-4a46-9f4e-625f8722942f div.sk-dashed-wrapped {border: 1px dashed gray;margin: 0 0.4em 0.5em 0.4em;box-sizing: border-box;padding-bottom: 0.4em;background-color: white;position: relative;}#sk-721f0121-8481-4a46-9f4e-625f8722942f div.sk-label label {font-family: monospace;font-weight: bold;background-color: white;display: inline-block;line-height: 1.2em;}#sk-721f0121-8481-4a46-9f4e-625f8722942f div.sk-label-container {position: relative;z-index: 2;text-align: center;}#sk-721f0121-8481-4a46-9f4e-625f8722942f div.sk-container {/* jupyter's `normalize.less` sets `[hidden] { display: none; }` but bootstrap.min.css set `[hidden] { display: none !important; }` so we also need the `!important` here to be able to override the default hidden behavior on the sphinx rendered scikit-learn.org. See: https://github.com/scikit-learn/scikit-learn/issues/21755 */display: inline-block !important;position: relative;}#sk-721f0121-8481-4a46-9f4e-625f8722942f div.sk-text-repr-fallback {display: none;}</style><div id=\"sk-721f0121-8481-4a46-9f4e-625f8722942f\" class=\"sk-top-container\"><div class=\"sk-text-repr-fallback\"><pre>ColumnTransformer(transformers=[(&#x27;pipeline-1&#x27;,\n",
              "                                 Pipeline(steps=[(&#x27;simpleimputer&#x27;,\n",
              "                                                  SimpleImputer()),\n",
              "                                                 (&#x27;standardscaler&#x27;,\n",
              "                                                  StandardScaler())]),\n",
              "                                 &lt;sklearn.compose._column_transformer.make_column_selector object at 0x7fbd8e16e190&gt;),\n",
              "                                (&#x27;pipeline-2&#x27;,\n",
              "                                 Pipeline(steps=[(&#x27;simpleimputer&#x27;,\n",
              "                                                  SimpleImputer(strategy=&#x27;constant&#x27;)),\n",
              "                                                 (&#x27;onehotencoder&#x27;,\n",
              "                                                  OneHotEncoder(handle_unknown=&#x27;ignore&#x27;,\n",
              "                                                                sparse=False))]),\n",
              "                                 &lt;sklearn.compose._column_transformer.make_column_selector object at 0x7fbd8e46ed90&gt;)])</pre><b>Please rerun this cell to show the HTML repr or trust the notebook.</b></div><div class=\"sk-container\" hidden><div class=\"sk-item sk-dashed-wrapped\"><div class=\"sk-label-container\"><div class=\"sk-label sk-toggleable\"><input class=\"sk-toggleable__control sk-hidden--visually\" id=\"98a68586-4d9a-4ee7-97d5-9cd9496a4003\" type=\"checkbox\" ><label for=\"98a68586-4d9a-4ee7-97d5-9cd9496a4003\" class=\"sk-toggleable__label sk-toggleable__label-arrow\">ColumnTransformer</label><div class=\"sk-toggleable__content\"><pre>ColumnTransformer(transformers=[(&#x27;pipeline-1&#x27;,\n",
              "                                 Pipeline(steps=[(&#x27;simpleimputer&#x27;,\n",
              "                                                  SimpleImputer()),\n",
              "                                                 (&#x27;standardscaler&#x27;,\n",
              "                                                  StandardScaler())]),\n",
              "                                 &lt;sklearn.compose._column_transformer.make_column_selector object at 0x7fbd8e16e190&gt;),\n",
              "                                (&#x27;pipeline-2&#x27;,\n",
              "                                 Pipeline(steps=[(&#x27;simpleimputer&#x27;,\n",
              "                                                  SimpleImputer(strategy=&#x27;constant&#x27;)),\n",
              "                                                 (&#x27;onehotencoder&#x27;,\n",
              "                                                  OneHotEncoder(handle_unknown=&#x27;ignore&#x27;,\n",
              "                                                                sparse=False))]),\n",
              "                                 &lt;sklearn.compose._column_transformer.make_column_selector object at 0x7fbd8e46ed90&gt;)])</pre></div></div></div><div class=\"sk-parallel\"><div class=\"sk-parallel-item\"><div class=\"sk-item\"><div class=\"sk-label-container\"><div class=\"sk-label sk-toggleable\"><input class=\"sk-toggleable__control sk-hidden--visually\" id=\"47934d8e-ad8d-4bbf-aa1c-fdf6fd8e75cd\" type=\"checkbox\" ><label for=\"47934d8e-ad8d-4bbf-aa1c-fdf6fd8e75cd\" class=\"sk-toggleable__label sk-toggleable__label-arrow\">pipeline-1</label><div class=\"sk-toggleable__content\"><pre>&lt;sklearn.compose._column_transformer.make_column_selector object at 0x7fbd8e16e190&gt;</pre></div></div></div><div class=\"sk-serial\"><div class=\"sk-item\"><div class=\"sk-serial\"><div class=\"sk-item\"><div class=\"sk-estimator sk-toggleable\"><input class=\"sk-toggleable__control sk-hidden--visually\" id=\"76866221-b13f-4e27-b7e1-bf224ba97fc8\" type=\"checkbox\" ><label for=\"76866221-b13f-4e27-b7e1-bf224ba97fc8\" class=\"sk-toggleable__label sk-toggleable__label-arrow\">SimpleImputer</label><div class=\"sk-toggleable__content\"><pre>SimpleImputer()</pre></div></div></div><div class=\"sk-item\"><div class=\"sk-estimator sk-toggleable\"><input class=\"sk-toggleable__control sk-hidden--visually\" id=\"80fada83-d546-4693-a6c2-fe4900586f6b\" type=\"checkbox\" ><label for=\"80fada83-d546-4693-a6c2-fe4900586f6b\" class=\"sk-toggleable__label sk-toggleable__label-arrow\">StandardScaler</label><div class=\"sk-toggleable__content\"><pre>StandardScaler()</pre></div></div></div></div></div></div></div></div><div class=\"sk-parallel-item\"><div class=\"sk-item\"><div class=\"sk-label-container\"><div class=\"sk-label sk-toggleable\"><input class=\"sk-toggleable__control sk-hidden--visually\" id=\"dce0bfc3-a980-4f5c-8eaf-33b628d817af\" type=\"checkbox\" ><label for=\"dce0bfc3-a980-4f5c-8eaf-33b628d817af\" class=\"sk-toggleable__label sk-toggleable__label-arrow\">pipeline-2</label><div class=\"sk-toggleable__content\"><pre>&lt;sklearn.compose._column_transformer.make_column_selector object at 0x7fbd8e46ed90&gt;</pre></div></div></div><div class=\"sk-serial\"><div class=\"sk-item\"><div class=\"sk-serial\"><div class=\"sk-item\"><div class=\"sk-estimator sk-toggleable\"><input class=\"sk-toggleable__control sk-hidden--visually\" id=\"ada928f5-43db-4d2d-8fa9-3e8c2f2cc45b\" type=\"checkbox\" ><label for=\"ada928f5-43db-4d2d-8fa9-3e8c2f2cc45b\" class=\"sk-toggleable__label sk-toggleable__label-arrow\">SimpleImputer</label><div class=\"sk-toggleable__content\"><pre>SimpleImputer(strategy=&#x27;constant&#x27;)</pre></div></div></div><div class=\"sk-item\"><div class=\"sk-estimator sk-toggleable\"><input class=\"sk-toggleable__control sk-hidden--visually\" id=\"7d1d75a8-12c4-478e-bde2-24acf510f643\" type=\"checkbox\" ><label for=\"7d1d75a8-12c4-478e-bde2-24acf510f643\" class=\"sk-toggleable__label sk-toggleable__label-arrow\">OneHotEncoder</label><div class=\"sk-toggleable__content\"><pre>OneHotEncoder(handle_unknown=&#x27;ignore&#x27;, sparse=False)</pre></div></div></div></div></div></div></div></div></div></div></div></div>"
            ]
          },
          "metadata": {},
          "execution_count": 386
        }
      ]
    },
    {
      "cell_type": "code",
      "source": [
        "# Fit on train (NEVER ON TEST)\n",
        "preprocessor.fit(X_train)\n",
        "# transform train and test\n",
        "X_train_processed = preprocessor.transform(X_train)\n",
        "X_test_processed = preprocessor.transform(X_test)\n"
      ],
      "metadata": {
        "id": "LLNok3sWrAWV"
      },
      "execution_count": 387,
      "outputs": []
    },
    {
      "cell_type": "code",
      "source": [
        "# Check for missing values and that data is scaled and one-hot encoded\n",
        "print(np.isnan(X_train_processed).sum().sum(), 'missing values in training data')\n",
        "print(np.isnan(X_test_processed).sum().sum(), 'missing values in testing data')\n",
        "print('\\n')\n",
        "print('All data in X_train_processed are', X_train_processed.dtype)\n",
        "print('All data in X_test_processed are', X_test_processed.dtype)\n",
        "print('\\n')\n",
        "print('shape of data is', X_train_processed.shape)\n",
        "print('\\n')\n",
        "# FINAL RESULT\n",
        "X_train_processed\n"
      ],
      "metadata": {
        "id": "RPksHFdHrCrx",
        "outputId": "92d054a0-ace1-44f0-f849-687ded77a7b7",
        "colab": {
          "base_uri": "https://localhost:8080/"
        }
      },
      "execution_count": 388,
      "outputs": [
        {
          "output_type": "stream",
          "name": "stdout",
          "text": [
            "0 missing values in training data\n",
            "0 missing values in testing data\n",
            "\n",
            "\n",
            "All data in X_train_processed are float64\n",
            "All data in X_test_processed are float64\n",
            "\n",
            "\n",
            "shape of data is (6392, 32)\n",
            "\n",
            "\n"
          ]
        },
        {
          "output_type": "execute_result",
          "data": {
            "text/plain": [
              "array([[ 0.81724868, -0.71277507,  1.82810922, ...,  0.        ,\n",
              "         1.        ,  0.        ],\n",
              "       [ 0.5563395 , -1.29105225,  0.60336888, ...,  0.        ,\n",
              "         1.        ,  0.        ],\n",
              "       [-0.13151196,  1.81331864,  0.24454056, ...,  1.        ,\n",
              "         0.        ,  0.        ],\n",
              "       ...,\n",
              "       [ 1.11373638, -0.92052713,  1.52302674, ...,  1.        ,\n",
              "         0.        ,  0.        ],\n",
              "       [ 1.76600931, -0.2277552 , -0.38377708, ...,  1.        ,\n",
              "         0.        ,  0.        ],\n",
              "       [ 0.81724868, -0.95867683, -0.73836105, ...,  1.        ,\n",
              "         0.        ,  0.        ]])"
            ]
          },
          "metadata": {},
          "execution_count": 388
        }
      ]
    },
    {
      "cell_type": "markdown",
      "source": [
        "#Linear Regression"
      ],
      "metadata": {
        "id": "9keZcOquszZX"
      }
    },
    {
      "cell_type": "code",
      "source": [
        "# Build a linear regression model\n",
        "\n",
        "#Imports needed for a linear regression model and for the evaluation of model\n",
        "from sklearn.linear_model import LinearRegression\n",
        "from sklearn.pipeline import make_pipeline\n",
        "from sklearn.metrics import r2_score, mean_squared_error"
      ],
      "metadata": {
        "id": "DRo7gEt8bm2N"
      },
      "execution_count": 389,
      "outputs": []
    },
    {
      "cell_type": "code",
      "source": [
        "# Make and fit a linear regression model\n",
        "reg = LinearRegression()\n",
        "reg_pipe = make_pipeline(preprocessor, reg)\n",
        "\n",
        "reg_pipe.fit(X_train,y_train)\n"
      ],
      "metadata": {
        "id": "lYBPHJGsdKSz",
        "outputId": "f3d33b26-e45f-4bfc-e825-ee5431ffe30f",
        "colab": {
          "base_uri": "https://localhost:8080/",
          "height": 227
        }
      },
      "execution_count": 390,
      "outputs": [
        {
          "output_type": "execute_result",
          "data": {
            "text/plain": [
              "Pipeline(steps=[('columntransformer',\n",
              "                 ColumnTransformer(transformers=[('pipeline-1',\n",
              "                                                  Pipeline(steps=[('simpleimputer',\n",
              "                                                                   SimpleImputer()),\n",
              "                                                                  ('standardscaler',\n",
              "                                                                   StandardScaler())]),\n",
              "                                                  <sklearn.compose._column_transformer.make_column_selector object at 0x7fbd8e16e190>),\n",
              "                                                 ('pipeline-2',\n",
              "                                                  Pipeline(steps=[('simpleimputer',\n",
              "                                                                   SimpleImputer(strategy='constant')),\n",
              "                                                                  ('onehotencoder',\n",
              "                                                                   OneHotEncoder(handle_unknown='ignore',\n",
              "                                                                                 sparse=False))]),\n",
              "                                                  <sklearn.compose._column_transformer.make_column_selector object at 0x7fbd8e46ed90>)])),\n",
              "                ('linearregression', LinearRegression())])"
            ],
            "text/html": [
              "<style>#sk-f51842b7-938a-415e-aff3-dc49b7155f25 {color: black;background-color: white;}#sk-f51842b7-938a-415e-aff3-dc49b7155f25 pre{padding: 0;}#sk-f51842b7-938a-415e-aff3-dc49b7155f25 div.sk-toggleable {background-color: white;}#sk-f51842b7-938a-415e-aff3-dc49b7155f25 label.sk-toggleable__label {cursor: pointer;display: block;width: 100%;margin-bottom: 0;padding: 0.3em;box-sizing: border-box;text-align: center;}#sk-f51842b7-938a-415e-aff3-dc49b7155f25 label.sk-toggleable__label-arrow:before {content: \"▸\";float: left;margin-right: 0.25em;color: #696969;}#sk-f51842b7-938a-415e-aff3-dc49b7155f25 label.sk-toggleable__label-arrow:hover:before {color: black;}#sk-f51842b7-938a-415e-aff3-dc49b7155f25 div.sk-estimator:hover label.sk-toggleable__label-arrow:before {color: black;}#sk-f51842b7-938a-415e-aff3-dc49b7155f25 div.sk-toggleable__content {max-height: 0;max-width: 0;overflow: hidden;text-align: left;background-color: #f0f8ff;}#sk-f51842b7-938a-415e-aff3-dc49b7155f25 div.sk-toggleable__content pre {margin: 0.2em;color: black;border-radius: 0.25em;background-color: #f0f8ff;}#sk-f51842b7-938a-415e-aff3-dc49b7155f25 input.sk-toggleable__control:checked~div.sk-toggleable__content {max-height: 200px;max-width: 100%;overflow: auto;}#sk-f51842b7-938a-415e-aff3-dc49b7155f25 input.sk-toggleable__control:checked~label.sk-toggleable__label-arrow:before {content: \"▾\";}#sk-f51842b7-938a-415e-aff3-dc49b7155f25 div.sk-estimator input.sk-toggleable__control:checked~label.sk-toggleable__label {background-color: #d4ebff;}#sk-f51842b7-938a-415e-aff3-dc49b7155f25 div.sk-label input.sk-toggleable__control:checked~label.sk-toggleable__label {background-color: #d4ebff;}#sk-f51842b7-938a-415e-aff3-dc49b7155f25 input.sk-hidden--visually {border: 0;clip: rect(1px 1px 1px 1px);clip: rect(1px, 1px, 1px, 1px);height: 1px;margin: -1px;overflow: hidden;padding: 0;position: absolute;width: 1px;}#sk-f51842b7-938a-415e-aff3-dc49b7155f25 div.sk-estimator {font-family: monospace;background-color: #f0f8ff;border: 1px dotted black;border-radius: 0.25em;box-sizing: border-box;margin-bottom: 0.5em;}#sk-f51842b7-938a-415e-aff3-dc49b7155f25 div.sk-estimator:hover {background-color: #d4ebff;}#sk-f51842b7-938a-415e-aff3-dc49b7155f25 div.sk-parallel-item::after {content: \"\";width: 100%;border-bottom: 1px solid gray;flex-grow: 1;}#sk-f51842b7-938a-415e-aff3-dc49b7155f25 div.sk-label:hover label.sk-toggleable__label {background-color: #d4ebff;}#sk-f51842b7-938a-415e-aff3-dc49b7155f25 div.sk-serial::before {content: \"\";position: absolute;border-left: 1px solid gray;box-sizing: border-box;top: 2em;bottom: 0;left: 50%;}#sk-f51842b7-938a-415e-aff3-dc49b7155f25 div.sk-serial {display: flex;flex-direction: column;align-items: center;background-color: white;padding-right: 0.2em;padding-left: 0.2em;}#sk-f51842b7-938a-415e-aff3-dc49b7155f25 div.sk-item {z-index: 1;}#sk-f51842b7-938a-415e-aff3-dc49b7155f25 div.sk-parallel {display: flex;align-items: stretch;justify-content: center;background-color: white;}#sk-f51842b7-938a-415e-aff3-dc49b7155f25 div.sk-parallel::before {content: \"\";position: absolute;border-left: 1px solid gray;box-sizing: border-box;top: 2em;bottom: 0;left: 50%;}#sk-f51842b7-938a-415e-aff3-dc49b7155f25 div.sk-parallel-item {display: flex;flex-direction: column;position: relative;background-color: white;}#sk-f51842b7-938a-415e-aff3-dc49b7155f25 div.sk-parallel-item:first-child::after {align-self: flex-end;width: 50%;}#sk-f51842b7-938a-415e-aff3-dc49b7155f25 div.sk-parallel-item:last-child::after {align-self: flex-start;width: 50%;}#sk-f51842b7-938a-415e-aff3-dc49b7155f25 div.sk-parallel-item:only-child::after {width: 0;}#sk-f51842b7-938a-415e-aff3-dc49b7155f25 div.sk-dashed-wrapped {border: 1px dashed gray;margin: 0 0.4em 0.5em 0.4em;box-sizing: border-box;padding-bottom: 0.4em;background-color: white;position: relative;}#sk-f51842b7-938a-415e-aff3-dc49b7155f25 div.sk-label label {font-family: monospace;font-weight: bold;background-color: white;display: inline-block;line-height: 1.2em;}#sk-f51842b7-938a-415e-aff3-dc49b7155f25 div.sk-label-container {position: relative;z-index: 2;text-align: center;}#sk-f51842b7-938a-415e-aff3-dc49b7155f25 div.sk-container {/* jupyter's `normalize.less` sets `[hidden] { display: none; }` but bootstrap.min.css set `[hidden] { display: none !important; }` so we also need the `!important` here to be able to override the default hidden behavior on the sphinx rendered scikit-learn.org. See: https://github.com/scikit-learn/scikit-learn/issues/21755 */display: inline-block !important;position: relative;}#sk-f51842b7-938a-415e-aff3-dc49b7155f25 div.sk-text-repr-fallback {display: none;}</style><div id=\"sk-f51842b7-938a-415e-aff3-dc49b7155f25\" class=\"sk-top-container\"><div class=\"sk-text-repr-fallback\"><pre>Pipeline(steps=[(&#x27;columntransformer&#x27;,\n",
              "                 ColumnTransformer(transformers=[(&#x27;pipeline-1&#x27;,\n",
              "                                                  Pipeline(steps=[(&#x27;simpleimputer&#x27;,\n",
              "                                                                   SimpleImputer()),\n",
              "                                                                  (&#x27;standardscaler&#x27;,\n",
              "                                                                   StandardScaler())]),\n",
              "                                                  &lt;sklearn.compose._column_transformer.make_column_selector object at 0x7fbd8e16e190&gt;),\n",
              "                                                 (&#x27;pipeline-2&#x27;,\n",
              "                                                  Pipeline(steps=[(&#x27;simpleimputer&#x27;,\n",
              "                                                                   SimpleImputer(strategy=&#x27;constant&#x27;)),\n",
              "                                                                  (&#x27;onehotencoder&#x27;,\n",
              "                                                                   OneHotEncoder(handle_unknown=&#x27;ignore&#x27;,\n",
              "                                                                                 sparse=False))]),\n",
              "                                                  &lt;sklearn.compose._column_transformer.make_column_selector object at 0x7fbd8e46ed90&gt;)])),\n",
              "                (&#x27;linearregression&#x27;, LinearRegression())])</pre><b>Please rerun this cell to show the HTML repr or trust the notebook.</b></div><div class=\"sk-container\" hidden><div class=\"sk-item sk-dashed-wrapped\"><div class=\"sk-label-container\"><div class=\"sk-label sk-toggleable\"><input class=\"sk-toggleable__control sk-hidden--visually\" id=\"0be155ce-b44a-462d-8dd1-be6cc486cdbc\" type=\"checkbox\" ><label for=\"0be155ce-b44a-462d-8dd1-be6cc486cdbc\" class=\"sk-toggleable__label sk-toggleable__label-arrow\">Pipeline</label><div class=\"sk-toggleable__content\"><pre>Pipeline(steps=[(&#x27;columntransformer&#x27;,\n",
              "                 ColumnTransformer(transformers=[(&#x27;pipeline-1&#x27;,\n",
              "                                                  Pipeline(steps=[(&#x27;simpleimputer&#x27;,\n",
              "                                                                   SimpleImputer()),\n",
              "                                                                  (&#x27;standardscaler&#x27;,\n",
              "                                                                   StandardScaler())]),\n",
              "                                                  &lt;sklearn.compose._column_transformer.make_column_selector object at 0x7fbd8e16e190&gt;),\n",
              "                                                 (&#x27;pipeline-2&#x27;,\n",
              "                                                  Pipeline(steps=[(&#x27;simpleimputer&#x27;,\n",
              "                                                                   SimpleImputer(strategy=&#x27;constant&#x27;)),\n",
              "                                                                  (&#x27;onehotencoder&#x27;,\n",
              "                                                                   OneHotEncoder(handle_unknown=&#x27;ignore&#x27;,\n",
              "                                                                                 sparse=False))]),\n",
              "                                                  &lt;sklearn.compose._column_transformer.make_column_selector object at 0x7fbd8e46ed90&gt;)])),\n",
              "                (&#x27;linearregression&#x27;, LinearRegression())])</pre></div></div></div><div class=\"sk-serial\"><div class=\"sk-item sk-dashed-wrapped\"><div class=\"sk-label-container\"><div class=\"sk-label sk-toggleable\"><input class=\"sk-toggleable__control sk-hidden--visually\" id=\"b37116d6-d975-491a-8a58-3331835461a8\" type=\"checkbox\" ><label for=\"b37116d6-d975-491a-8a58-3331835461a8\" class=\"sk-toggleable__label sk-toggleable__label-arrow\">columntransformer: ColumnTransformer</label><div class=\"sk-toggleable__content\"><pre>ColumnTransformer(transformers=[(&#x27;pipeline-1&#x27;,\n",
              "                                 Pipeline(steps=[(&#x27;simpleimputer&#x27;,\n",
              "                                                  SimpleImputer()),\n",
              "                                                 (&#x27;standardscaler&#x27;,\n",
              "                                                  StandardScaler())]),\n",
              "                                 &lt;sklearn.compose._column_transformer.make_column_selector object at 0x7fbd8e16e190&gt;),\n",
              "                                (&#x27;pipeline-2&#x27;,\n",
              "                                 Pipeline(steps=[(&#x27;simpleimputer&#x27;,\n",
              "                                                  SimpleImputer(strategy=&#x27;constant&#x27;)),\n",
              "                                                 (&#x27;onehotencoder&#x27;,\n",
              "                                                  OneHotEncoder(handle_unknown=&#x27;ignore&#x27;,\n",
              "                                                                sparse=False))]),\n",
              "                                 &lt;sklearn.compose._column_transformer.make_column_selector object at 0x7fbd8e46ed90&gt;)])</pre></div></div></div><div class=\"sk-parallel\"><div class=\"sk-parallel-item\"><div class=\"sk-item\"><div class=\"sk-label-container\"><div class=\"sk-label sk-toggleable\"><input class=\"sk-toggleable__control sk-hidden--visually\" id=\"3295a9c9-9853-4a01-bf7d-2e91972cbf28\" type=\"checkbox\" ><label for=\"3295a9c9-9853-4a01-bf7d-2e91972cbf28\" class=\"sk-toggleable__label sk-toggleable__label-arrow\">pipeline-1</label><div class=\"sk-toggleable__content\"><pre>&lt;sklearn.compose._column_transformer.make_column_selector object at 0x7fbd8e16e190&gt;</pre></div></div></div><div class=\"sk-serial\"><div class=\"sk-item\"><div class=\"sk-serial\"><div class=\"sk-item\"><div class=\"sk-estimator sk-toggleable\"><input class=\"sk-toggleable__control sk-hidden--visually\" id=\"43e04867-9942-4935-b517-fb532dcfcc90\" type=\"checkbox\" ><label for=\"43e04867-9942-4935-b517-fb532dcfcc90\" class=\"sk-toggleable__label sk-toggleable__label-arrow\">SimpleImputer</label><div class=\"sk-toggleable__content\"><pre>SimpleImputer()</pre></div></div></div><div class=\"sk-item\"><div class=\"sk-estimator sk-toggleable\"><input class=\"sk-toggleable__control sk-hidden--visually\" id=\"86ba2bc3-4387-4cc2-bacd-e4d8e91c8c74\" type=\"checkbox\" ><label for=\"86ba2bc3-4387-4cc2-bacd-e4d8e91c8c74\" class=\"sk-toggleable__label sk-toggleable__label-arrow\">StandardScaler</label><div class=\"sk-toggleable__content\"><pre>StandardScaler()</pre></div></div></div></div></div></div></div></div><div class=\"sk-parallel-item\"><div class=\"sk-item\"><div class=\"sk-label-container\"><div class=\"sk-label sk-toggleable\"><input class=\"sk-toggleable__control sk-hidden--visually\" id=\"38ba1577-082f-4cf7-982e-45abe52148f7\" type=\"checkbox\" ><label for=\"38ba1577-082f-4cf7-982e-45abe52148f7\" class=\"sk-toggleable__label sk-toggleable__label-arrow\">pipeline-2</label><div class=\"sk-toggleable__content\"><pre>&lt;sklearn.compose._column_transformer.make_column_selector object at 0x7fbd8e46ed90&gt;</pre></div></div></div><div class=\"sk-serial\"><div class=\"sk-item\"><div class=\"sk-serial\"><div class=\"sk-item\"><div class=\"sk-estimator sk-toggleable\"><input class=\"sk-toggleable__control sk-hidden--visually\" id=\"053a6dcf-b143-476a-b9c9-e4ffddfd2402\" type=\"checkbox\" ><label for=\"053a6dcf-b143-476a-b9c9-e4ffddfd2402\" class=\"sk-toggleable__label sk-toggleable__label-arrow\">SimpleImputer</label><div class=\"sk-toggleable__content\"><pre>SimpleImputer(strategy=&#x27;constant&#x27;)</pre></div></div></div><div class=\"sk-item\"><div class=\"sk-estimator sk-toggleable\"><input class=\"sk-toggleable__control sk-hidden--visually\" id=\"ee30d4a5-8766-43a8-983a-bc8e55a1d1d2\" type=\"checkbox\" ><label for=\"ee30d4a5-8766-43a8-983a-bc8e55a1d1d2\" class=\"sk-toggleable__label sk-toggleable__label-arrow\">OneHotEncoder</label><div class=\"sk-toggleable__content\"><pre>OneHotEncoder(handle_unknown=&#x27;ignore&#x27;, sparse=False)</pre></div></div></div></div></div></div></div></div></div></div><div class=\"sk-item\"><div class=\"sk-estimator sk-toggleable\"><input class=\"sk-toggleable__control sk-hidden--visually\" id=\"88a0f15d-ac7d-4451-bfbe-e2754437187e\" type=\"checkbox\" ><label for=\"88a0f15d-ac7d-4451-bfbe-e2754437187e\" class=\"sk-toggleable__label sk-toggleable__label-arrow\">LinearRegression</label><div class=\"sk-toggleable__content\"><pre>LinearRegression()</pre></div></div></div></div></div></div></div>"
            ]
          },
          "metadata": {},
          "execution_count": 390
        }
      ]
    },
    {
      "cell_type": "code",
      "source": [
        "# Get predictions for train and test data\n",
        "pred_train = reg_pipe.predict(X_train)\n",
        "pred_test = reg_pipe.predict(X_test)"
      ],
      "metadata": {
        "id": "AsURvjlbixFQ"
      },
      "execution_count": 391,
      "outputs": []
    },
    {
      "cell_type": "code",
      "source": [
        "# Measuring model performance\n",
        "print(f\"Train R-Squared: { round( reg_pipe.score(X_train, y_train),3) }\")\n",
        "print(f\"Test R-Squared: { round( reg_pipe.score(X_test, y_test),3) }\")"
      ],
      "metadata": {
        "id": "P5MB_-kiibRl",
        "outputId": "da022d52-67f2-4511-8c4c-85fdaa802498",
        "colab": {
          "base_uri": "https://localhost:8080/"
        }
      },
      "execution_count": 392,
      "outputs": [
        {
          "output_type": "stream",
          "name": "stdout",
          "text": [
            "Train R-Squared: 0.561\n",
            "Test R-Squared: 0.566\n"
          ]
        }
      ]
    },
    {
      "cell_type": "code",
      "source": [
        "# Calculate RMSE for train vs test\n",
        "rmse_train =  mean_squared_error(y_train, pred_train, squared=False)\n",
        "rmse_test = mean_squared_error(y_test, pred_test, squared=False)\n",
        "print(f\"Train RMSE: { round(rmse_train, 2)}\")\n",
        "print(f\"Test RMSE: { round( rmse_test, 2)}\")"
      ],
      "metadata": {
        "id": "RMMjUJoejhQU",
        "outputId": "c7798c8e-c233-4dc8-ea46-9d1191e748a5",
        "colab": {
          "base_uri": "https://localhost:8080/"
        }
      },
      "execution_count": 393,
      "outputs": [
        {
          "output_type": "stream",
          "name": "stdout",
          "text": [
            "Train RMSE: 1140.25\n",
            "Test RMSE: 1094.72\n"
          ]
        }
      ]
    },
    {
      "cell_type": "markdown",
      "source": [
        "#Regression Tree Model"
      ],
      "metadata": {
        "id": "e2FMiZr0stPM"
      }
    },
    {
      "cell_type": "code",
      "source": [
        "# Build a regression model\n",
        "\n",
        "# Import the decision tree regressor model\n",
        "from sklearn.tree import DecisionTreeRegressor\n",
        "\n",
        "# Instantiate, make pipeline and fit the model\n",
        "dec_tree = DecisionTreeRegressor(random_state = 42)\n",
        "\n",
        "dec_pipe = make_pipeline(preprocessor, dec_tree)\n",
        "\n",
        "dec_pipe.fit(X_train,y_train)"
      ],
      "metadata": {
        "id": "z81bfViCnDMN",
        "outputId": "dc01b4e9-66a7-4956-9e75-1babfcbc101c",
        "colab": {
          "base_uri": "https://localhost:8080/",
          "height": 227
        }
      },
      "execution_count": 394,
      "outputs": [
        {
          "output_type": "execute_result",
          "data": {
            "text/plain": [
              "Pipeline(steps=[('columntransformer',\n",
              "                 ColumnTransformer(transformers=[('pipeline-1',\n",
              "                                                  Pipeline(steps=[('simpleimputer',\n",
              "                                                                   SimpleImputer()),\n",
              "                                                                  ('standardscaler',\n",
              "                                                                   StandardScaler())]),\n",
              "                                                  <sklearn.compose._column_transformer.make_column_selector object at 0x7fbd8e16e190>),\n",
              "                                                 ('pipeline-2',\n",
              "                                                  Pipeline(steps=[('simpleimputer',\n",
              "                                                                   SimpleImputer(strategy='constant')),\n",
              "                                                                  ('onehotencoder',\n",
              "                                                                   OneHotEncoder(handle_unknown='ignore',\n",
              "                                                                                 sparse=False))]),\n",
              "                                                  <sklearn.compose._column_transformer.make_column_selector object at 0x7fbd8e46ed90>)])),\n",
              "                ('decisiontreeregressor',\n",
              "                 DecisionTreeRegressor(random_state=42))])"
            ],
            "text/html": [
              "<style>#sk-9ec5b106-7a8f-48e0-9138-68f69492036a {color: black;background-color: white;}#sk-9ec5b106-7a8f-48e0-9138-68f69492036a pre{padding: 0;}#sk-9ec5b106-7a8f-48e0-9138-68f69492036a div.sk-toggleable {background-color: white;}#sk-9ec5b106-7a8f-48e0-9138-68f69492036a label.sk-toggleable__label {cursor: pointer;display: block;width: 100%;margin-bottom: 0;padding: 0.3em;box-sizing: border-box;text-align: center;}#sk-9ec5b106-7a8f-48e0-9138-68f69492036a label.sk-toggleable__label-arrow:before {content: \"▸\";float: left;margin-right: 0.25em;color: #696969;}#sk-9ec5b106-7a8f-48e0-9138-68f69492036a label.sk-toggleable__label-arrow:hover:before {color: black;}#sk-9ec5b106-7a8f-48e0-9138-68f69492036a div.sk-estimator:hover label.sk-toggleable__label-arrow:before {color: black;}#sk-9ec5b106-7a8f-48e0-9138-68f69492036a div.sk-toggleable__content {max-height: 0;max-width: 0;overflow: hidden;text-align: left;background-color: #f0f8ff;}#sk-9ec5b106-7a8f-48e0-9138-68f69492036a div.sk-toggleable__content pre {margin: 0.2em;color: black;border-radius: 0.25em;background-color: #f0f8ff;}#sk-9ec5b106-7a8f-48e0-9138-68f69492036a input.sk-toggleable__control:checked~div.sk-toggleable__content {max-height: 200px;max-width: 100%;overflow: auto;}#sk-9ec5b106-7a8f-48e0-9138-68f69492036a input.sk-toggleable__control:checked~label.sk-toggleable__label-arrow:before {content: \"▾\";}#sk-9ec5b106-7a8f-48e0-9138-68f69492036a div.sk-estimator input.sk-toggleable__control:checked~label.sk-toggleable__label {background-color: #d4ebff;}#sk-9ec5b106-7a8f-48e0-9138-68f69492036a div.sk-label input.sk-toggleable__control:checked~label.sk-toggleable__label {background-color: #d4ebff;}#sk-9ec5b106-7a8f-48e0-9138-68f69492036a input.sk-hidden--visually {border: 0;clip: rect(1px 1px 1px 1px);clip: rect(1px, 1px, 1px, 1px);height: 1px;margin: -1px;overflow: hidden;padding: 0;position: absolute;width: 1px;}#sk-9ec5b106-7a8f-48e0-9138-68f69492036a div.sk-estimator {font-family: monospace;background-color: #f0f8ff;border: 1px dotted black;border-radius: 0.25em;box-sizing: border-box;margin-bottom: 0.5em;}#sk-9ec5b106-7a8f-48e0-9138-68f69492036a div.sk-estimator:hover {background-color: #d4ebff;}#sk-9ec5b106-7a8f-48e0-9138-68f69492036a div.sk-parallel-item::after {content: \"\";width: 100%;border-bottom: 1px solid gray;flex-grow: 1;}#sk-9ec5b106-7a8f-48e0-9138-68f69492036a div.sk-label:hover label.sk-toggleable__label {background-color: #d4ebff;}#sk-9ec5b106-7a8f-48e0-9138-68f69492036a div.sk-serial::before {content: \"\";position: absolute;border-left: 1px solid gray;box-sizing: border-box;top: 2em;bottom: 0;left: 50%;}#sk-9ec5b106-7a8f-48e0-9138-68f69492036a div.sk-serial {display: flex;flex-direction: column;align-items: center;background-color: white;padding-right: 0.2em;padding-left: 0.2em;}#sk-9ec5b106-7a8f-48e0-9138-68f69492036a div.sk-item {z-index: 1;}#sk-9ec5b106-7a8f-48e0-9138-68f69492036a div.sk-parallel {display: flex;align-items: stretch;justify-content: center;background-color: white;}#sk-9ec5b106-7a8f-48e0-9138-68f69492036a div.sk-parallel::before {content: \"\";position: absolute;border-left: 1px solid gray;box-sizing: border-box;top: 2em;bottom: 0;left: 50%;}#sk-9ec5b106-7a8f-48e0-9138-68f69492036a div.sk-parallel-item {display: flex;flex-direction: column;position: relative;background-color: white;}#sk-9ec5b106-7a8f-48e0-9138-68f69492036a div.sk-parallel-item:first-child::after {align-self: flex-end;width: 50%;}#sk-9ec5b106-7a8f-48e0-9138-68f69492036a div.sk-parallel-item:last-child::after {align-self: flex-start;width: 50%;}#sk-9ec5b106-7a8f-48e0-9138-68f69492036a div.sk-parallel-item:only-child::after {width: 0;}#sk-9ec5b106-7a8f-48e0-9138-68f69492036a div.sk-dashed-wrapped {border: 1px dashed gray;margin: 0 0.4em 0.5em 0.4em;box-sizing: border-box;padding-bottom: 0.4em;background-color: white;position: relative;}#sk-9ec5b106-7a8f-48e0-9138-68f69492036a div.sk-label label {font-family: monospace;font-weight: bold;background-color: white;display: inline-block;line-height: 1.2em;}#sk-9ec5b106-7a8f-48e0-9138-68f69492036a div.sk-label-container {position: relative;z-index: 2;text-align: center;}#sk-9ec5b106-7a8f-48e0-9138-68f69492036a div.sk-container {/* jupyter's `normalize.less` sets `[hidden] { display: none; }` but bootstrap.min.css set `[hidden] { display: none !important; }` so we also need the `!important` here to be able to override the default hidden behavior on the sphinx rendered scikit-learn.org. See: https://github.com/scikit-learn/scikit-learn/issues/21755 */display: inline-block !important;position: relative;}#sk-9ec5b106-7a8f-48e0-9138-68f69492036a div.sk-text-repr-fallback {display: none;}</style><div id=\"sk-9ec5b106-7a8f-48e0-9138-68f69492036a\" class=\"sk-top-container\"><div class=\"sk-text-repr-fallback\"><pre>Pipeline(steps=[(&#x27;columntransformer&#x27;,\n",
              "                 ColumnTransformer(transformers=[(&#x27;pipeline-1&#x27;,\n",
              "                                                  Pipeline(steps=[(&#x27;simpleimputer&#x27;,\n",
              "                                                                   SimpleImputer()),\n",
              "                                                                  (&#x27;standardscaler&#x27;,\n",
              "                                                                   StandardScaler())]),\n",
              "                                                  &lt;sklearn.compose._column_transformer.make_column_selector object at 0x7fbd8e16e190&gt;),\n",
              "                                                 (&#x27;pipeline-2&#x27;,\n",
              "                                                  Pipeline(steps=[(&#x27;simpleimputer&#x27;,\n",
              "                                                                   SimpleImputer(strategy=&#x27;constant&#x27;)),\n",
              "                                                                  (&#x27;onehotencoder&#x27;,\n",
              "                                                                   OneHotEncoder(handle_unknown=&#x27;ignore&#x27;,\n",
              "                                                                                 sparse=False))]),\n",
              "                                                  &lt;sklearn.compose._column_transformer.make_column_selector object at 0x7fbd8e46ed90&gt;)])),\n",
              "                (&#x27;decisiontreeregressor&#x27;,\n",
              "                 DecisionTreeRegressor(random_state=42))])</pre><b>Please rerun this cell to show the HTML repr or trust the notebook.</b></div><div class=\"sk-container\" hidden><div class=\"sk-item sk-dashed-wrapped\"><div class=\"sk-label-container\"><div class=\"sk-label sk-toggleable\"><input class=\"sk-toggleable__control sk-hidden--visually\" id=\"ce4f89aa-2d45-44e5-92f3-947eb503f994\" type=\"checkbox\" ><label for=\"ce4f89aa-2d45-44e5-92f3-947eb503f994\" class=\"sk-toggleable__label sk-toggleable__label-arrow\">Pipeline</label><div class=\"sk-toggleable__content\"><pre>Pipeline(steps=[(&#x27;columntransformer&#x27;,\n",
              "                 ColumnTransformer(transformers=[(&#x27;pipeline-1&#x27;,\n",
              "                                                  Pipeline(steps=[(&#x27;simpleimputer&#x27;,\n",
              "                                                                   SimpleImputer()),\n",
              "                                                                  (&#x27;standardscaler&#x27;,\n",
              "                                                                   StandardScaler())]),\n",
              "                                                  &lt;sklearn.compose._column_transformer.make_column_selector object at 0x7fbd8e16e190&gt;),\n",
              "                                                 (&#x27;pipeline-2&#x27;,\n",
              "                                                  Pipeline(steps=[(&#x27;simpleimputer&#x27;,\n",
              "                                                                   SimpleImputer(strategy=&#x27;constant&#x27;)),\n",
              "                                                                  (&#x27;onehotencoder&#x27;,\n",
              "                                                                   OneHotEncoder(handle_unknown=&#x27;ignore&#x27;,\n",
              "                                                                                 sparse=False))]),\n",
              "                                                  &lt;sklearn.compose._column_transformer.make_column_selector object at 0x7fbd8e46ed90&gt;)])),\n",
              "                (&#x27;decisiontreeregressor&#x27;,\n",
              "                 DecisionTreeRegressor(random_state=42))])</pre></div></div></div><div class=\"sk-serial\"><div class=\"sk-item sk-dashed-wrapped\"><div class=\"sk-label-container\"><div class=\"sk-label sk-toggleable\"><input class=\"sk-toggleable__control sk-hidden--visually\" id=\"43bf57c9-2de1-4903-ba97-f0e45fd604ca\" type=\"checkbox\" ><label for=\"43bf57c9-2de1-4903-ba97-f0e45fd604ca\" class=\"sk-toggleable__label sk-toggleable__label-arrow\">columntransformer: ColumnTransformer</label><div class=\"sk-toggleable__content\"><pre>ColumnTransformer(transformers=[(&#x27;pipeline-1&#x27;,\n",
              "                                 Pipeline(steps=[(&#x27;simpleimputer&#x27;,\n",
              "                                                  SimpleImputer()),\n",
              "                                                 (&#x27;standardscaler&#x27;,\n",
              "                                                  StandardScaler())]),\n",
              "                                 &lt;sklearn.compose._column_transformer.make_column_selector object at 0x7fbd8e16e190&gt;),\n",
              "                                (&#x27;pipeline-2&#x27;,\n",
              "                                 Pipeline(steps=[(&#x27;simpleimputer&#x27;,\n",
              "                                                  SimpleImputer(strategy=&#x27;constant&#x27;)),\n",
              "                                                 (&#x27;onehotencoder&#x27;,\n",
              "                                                  OneHotEncoder(handle_unknown=&#x27;ignore&#x27;,\n",
              "                                                                sparse=False))]),\n",
              "                                 &lt;sklearn.compose._column_transformer.make_column_selector object at 0x7fbd8e46ed90&gt;)])</pre></div></div></div><div class=\"sk-parallel\"><div class=\"sk-parallel-item\"><div class=\"sk-item\"><div class=\"sk-label-container\"><div class=\"sk-label sk-toggleable\"><input class=\"sk-toggleable__control sk-hidden--visually\" id=\"9b86597b-e703-4eea-98c2-5f986f88bde3\" type=\"checkbox\" ><label for=\"9b86597b-e703-4eea-98c2-5f986f88bde3\" class=\"sk-toggleable__label sk-toggleable__label-arrow\">pipeline-1</label><div class=\"sk-toggleable__content\"><pre>&lt;sklearn.compose._column_transformer.make_column_selector object at 0x7fbd8e16e190&gt;</pre></div></div></div><div class=\"sk-serial\"><div class=\"sk-item\"><div class=\"sk-serial\"><div class=\"sk-item\"><div class=\"sk-estimator sk-toggleable\"><input class=\"sk-toggleable__control sk-hidden--visually\" id=\"a3884d79-08b5-4822-8ecf-4b2cdbbde3f2\" type=\"checkbox\" ><label for=\"a3884d79-08b5-4822-8ecf-4b2cdbbde3f2\" class=\"sk-toggleable__label sk-toggleable__label-arrow\">SimpleImputer</label><div class=\"sk-toggleable__content\"><pre>SimpleImputer()</pre></div></div></div><div class=\"sk-item\"><div class=\"sk-estimator sk-toggleable\"><input class=\"sk-toggleable__control sk-hidden--visually\" id=\"d66b3b13-55b6-4801-9919-387fb74a2bf9\" type=\"checkbox\" ><label for=\"d66b3b13-55b6-4801-9919-387fb74a2bf9\" class=\"sk-toggleable__label sk-toggleable__label-arrow\">StandardScaler</label><div class=\"sk-toggleable__content\"><pre>StandardScaler()</pre></div></div></div></div></div></div></div></div><div class=\"sk-parallel-item\"><div class=\"sk-item\"><div class=\"sk-label-container\"><div class=\"sk-label sk-toggleable\"><input class=\"sk-toggleable__control sk-hidden--visually\" id=\"075a6667-9e63-423c-8744-20b1ce73e15d\" type=\"checkbox\" ><label for=\"075a6667-9e63-423c-8744-20b1ce73e15d\" class=\"sk-toggleable__label sk-toggleable__label-arrow\">pipeline-2</label><div class=\"sk-toggleable__content\"><pre>&lt;sklearn.compose._column_transformer.make_column_selector object at 0x7fbd8e46ed90&gt;</pre></div></div></div><div class=\"sk-serial\"><div class=\"sk-item\"><div class=\"sk-serial\"><div class=\"sk-item\"><div class=\"sk-estimator sk-toggleable\"><input class=\"sk-toggleable__control sk-hidden--visually\" id=\"426f8a6a-9fe2-49f5-a53e-3ecb567e2a48\" type=\"checkbox\" ><label for=\"426f8a6a-9fe2-49f5-a53e-3ecb567e2a48\" class=\"sk-toggleable__label sk-toggleable__label-arrow\">SimpleImputer</label><div class=\"sk-toggleable__content\"><pre>SimpleImputer(strategy=&#x27;constant&#x27;)</pre></div></div></div><div class=\"sk-item\"><div class=\"sk-estimator sk-toggleable\"><input class=\"sk-toggleable__control sk-hidden--visually\" id=\"d0dc3901-d600-4bf1-968c-c2bca1f66b49\" type=\"checkbox\" ><label for=\"d0dc3901-d600-4bf1-968c-c2bca1f66b49\" class=\"sk-toggleable__label sk-toggleable__label-arrow\">OneHotEncoder</label><div class=\"sk-toggleable__content\"><pre>OneHotEncoder(handle_unknown=&#x27;ignore&#x27;, sparse=False)</pre></div></div></div></div></div></div></div></div></div></div><div class=\"sk-item\"><div class=\"sk-estimator sk-toggleable\"><input class=\"sk-toggleable__control sk-hidden--visually\" id=\"b5f34580-064e-44d9-b812-e7056814c6b0\" type=\"checkbox\" ><label for=\"b5f34580-064e-44d9-b812-e7056814c6b0\" class=\"sk-toggleable__label sk-toggleable__label-arrow\">DecisionTreeRegressor</label><div class=\"sk-toggleable__content\"><pre>DecisionTreeRegressor(random_state=42)</pre></div></div></div></div></div></div></div>"
            ]
          },
          "metadata": {},
          "execution_count": 394
        }
      ]
    },
    {
      "cell_type": "code",
      "source": [
        "# Make predictions for test and train\n",
        "pred_train2 = dec_pipe.predict(X_train)\n",
        "pred_train2 = dec_pipe.predict(X_test)"
      ],
      "metadata": {
        "id": "HY8pFI0am4Qz"
      },
      "execution_count": 395,
      "outputs": []
    },
    {
      "cell_type": "code",
      "source": [
        "# Evaluate the model\n",
        "train_score = dec_pipe.score(X_train, y_train)\n",
        "test_score = dec_pipe.score(X_test, y_test)\n",
        "print(train_score)\n",
        "print(test_score)\n",
        "\n"
      ],
      "metadata": {
        "id": "vcnvb4oMnzHq",
        "outputId": "7b8d1f12-2eea-4eee-b0b7-08f74cff0d56",
        "colab": {
          "base_uri": "https://localhost:8080/"
        }
      },
      "execution_count": 396,
      "outputs": [
        {
          "output_type": "stream",
          "name": "stdout",
          "text": [
            "1.0\n",
            "0.15986423123635318\n"
          ]
        }
      ]
    },
    {
      "cell_type": "markdown",
      "source": [
        "The train set has a perfect score while the test has a significally lower score.\n",
        "- We can tune our model for a better result"
      ],
      "metadata": {
        "id": "IUAmHaY2oE45"
      }
    },
    {
      "cell_type": "code",
      "source": [
        "# Create a range of max_depth values to loop over\n",
        "depths = range(1, 38)\n",
        "# Create a dataframe to store train and test scores.\n",
        "scores = pd.DataFrame(columns=['Train','Test'], index=depths)\n",
        "# Loop over the values in the depths range \n",
        "for depth in depths:\n",
        "  # fit a new model with the depth\n",
        "  dec = DecisionTreeRegressor(max_depth=depth)\n",
        "  # put model in a pipeline\n",
        "  dec_pipe = make_pipeline(preprocessor, dec)\n",
        "  # fit the model\n",
        "  dec_pipe.fit(X_train, y_train)\n",
        "  # create prediction arrays\n",
        "  train_pred = dec_pipe.predict(X_train)\n",
        "  test_pred = dec_pipe.predict(X_test)\n",
        "\n",
        "  # evaluate the model using R2 score\n",
        "  train_r2 = r2_score(y_train, train_pred)\n",
        "  test_r2 = r2_score(y_test, test_pred)\n",
        "  # store the scores in a dataframe\n",
        "  scores.loc[depth, 'Train'] = train_r2\n",
        "  scores.loc[depth, 'Test'] = test_r2"
      ],
      "metadata": {
        "id": "46A_BA0soPQH"
      },
      "execution_count": 397,
      "outputs": []
    },
    {
      "cell_type": "code",
      "source": [
        "# Sort scores\n",
        "scores.sort_values(by='Test', ascending=False).head()"
      ],
      "metadata": {
        "id": "fgaXvXQloqNZ",
        "outputId": "ebf57cfd-131d-443f-9cbf-82d68e0b95d4",
        "colab": {
          "base_uri": "https://localhost:8080/",
          "height": 206
        }
      },
      "execution_count": 398,
      "outputs": [
        {
          "output_type": "execute_result",
          "data": {
            "text/plain": [
              "      Train      Test\n",
              "5  0.603932   0.59472\n",
              "6  0.615139  0.584559\n",
              "4  0.582625  0.584005\n",
              "7  0.626772  0.580126\n",
              "8  0.642778  0.569368"
            ],
            "text/html": [
              "\n",
              "  <div id=\"df-bc2b789d-223b-4a3e-b0fc-102413116f05\">\n",
              "    <div class=\"colab-df-container\">\n",
              "      <div>\n",
              "<style scoped>\n",
              "    .dataframe tbody tr th:only-of-type {\n",
              "        vertical-align: middle;\n",
              "    }\n",
              "\n",
              "    .dataframe tbody tr th {\n",
              "        vertical-align: top;\n",
              "    }\n",
              "\n",
              "    .dataframe thead th {\n",
              "        text-align: right;\n",
              "    }\n",
              "</style>\n",
              "<table border=\"1\" class=\"dataframe\">\n",
              "  <thead>\n",
              "    <tr style=\"text-align: right;\">\n",
              "      <th></th>\n",
              "      <th>Train</th>\n",
              "      <th>Test</th>\n",
              "    </tr>\n",
              "  </thead>\n",
              "  <tbody>\n",
              "    <tr>\n",
              "      <th>5</th>\n",
              "      <td>0.603932</td>\n",
              "      <td>0.59472</td>\n",
              "    </tr>\n",
              "    <tr>\n",
              "      <th>6</th>\n",
              "      <td>0.615139</td>\n",
              "      <td>0.584559</td>\n",
              "    </tr>\n",
              "    <tr>\n",
              "      <th>4</th>\n",
              "      <td>0.582625</td>\n",
              "      <td>0.584005</td>\n",
              "    </tr>\n",
              "    <tr>\n",
              "      <th>7</th>\n",
              "      <td>0.626772</td>\n",
              "      <td>0.580126</td>\n",
              "    </tr>\n",
              "    <tr>\n",
              "      <th>8</th>\n",
              "      <td>0.642778</td>\n",
              "      <td>0.569368</td>\n",
              "    </tr>\n",
              "  </tbody>\n",
              "</table>\n",
              "</div>\n",
              "      <button class=\"colab-df-convert\" onclick=\"convertToInteractive('df-bc2b789d-223b-4a3e-b0fc-102413116f05')\"\n",
              "              title=\"Convert this dataframe to an interactive table.\"\n",
              "              style=\"display:none;\">\n",
              "        \n",
              "  <svg xmlns=\"http://www.w3.org/2000/svg\" height=\"24px\"viewBox=\"0 0 24 24\"\n",
              "       width=\"24px\">\n",
              "    <path d=\"M0 0h24v24H0V0z\" fill=\"none\"/>\n",
              "    <path d=\"M18.56 5.44l.94 2.06.94-2.06 2.06-.94-2.06-.94-.94-2.06-.94 2.06-2.06.94zm-11 1L8.5 8.5l.94-2.06 2.06-.94-2.06-.94L8.5 2.5l-.94 2.06-2.06.94zm10 10l.94 2.06.94-2.06 2.06-.94-2.06-.94-.94-2.06-.94 2.06-2.06.94z\"/><path d=\"M17.41 7.96l-1.37-1.37c-.4-.4-.92-.59-1.43-.59-.52 0-1.04.2-1.43.59L10.3 9.45l-7.72 7.72c-.78.78-.78 2.05 0 2.83L4 21.41c.39.39.9.59 1.41.59.51 0 1.02-.2 1.41-.59l7.78-7.78 2.81-2.81c.8-.78.8-2.07 0-2.86zM5.41 20L4 18.59l7.72-7.72 1.47 1.35L5.41 20z\"/>\n",
              "  </svg>\n",
              "      </button>\n",
              "      \n",
              "  <style>\n",
              "    .colab-df-container {\n",
              "      display:flex;\n",
              "      flex-wrap:wrap;\n",
              "      gap: 12px;\n",
              "    }\n",
              "\n",
              "    .colab-df-convert {\n",
              "      background-color: #E8F0FE;\n",
              "      border: none;\n",
              "      border-radius: 50%;\n",
              "      cursor: pointer;\n",
              "      display: none;\n",
              "      fill: #1967D2;\n",
              "      height: 32px;\n",
              "      padding: 0 0 0 0;\n",
              "      width: 32px;\n",
              "    }\n",
              "\n",
              "    .colab-df-convert:hover {\n",
              "      background-color: #E2EBFA;\n",
              "      box-shadow: 0px 1px 2px rgba(60, 64, 67, 0.3), 0px 1px 3px 1px rgba(60, 64, 67, 0.15);\n",
              "      fill: #174EA6;\n",
              "    }\n",
              "\n",
              "    [theme=dark] .colab-df-convert {\n",
              "      background-color: #3B4455;\n",
              "      fill: #D2E3FC;\n",
              "    }\n",
              "\n",
              "    [theme=dark] .colab-df-convert:hover {\n",
              "      background-color: #434B5C;\n",
              "      box-shadow: 0px 1px 3px 1px rgba(0, 0, 0, 0.15);\n",
              "      filter: drop-shadow(0px 1px 2px rgba(0, 0, 0, 0.3));\n",
              "      fill: #FFFFFF;\n",
              "    }\n",
              "  </style>\n",
              "\n",
              "      <script>\n",
              "        const buttonEl =\n",
              "          document.querySelector('#df-bc2b789d-223b-4a3e-b0fc-102413116f05 button.colab-df-convert');\n",
              "        buttonEl.style.display =\n",
              "          google.colab.kernel.accessAllowed ? 'block' : 'none';\n",
              "\n",
              "        async function convertToInteractive(key) {\n",
              "          const element = document.querySelector('#df-bc2b789d-223b-4a3e-b0fc-102413116f05');\n",
              "          const dataTable =\n",
              "            await google.colab.kernel.invokeFunction('convertToInteractive',\n",
              "                                                     [key], {});\n",
              "          if (!dataTable) return;\n",
              "\n",
              "          const docLinkHtml = 'Like what you see? Visit the ' +\n",
              "            '<a target=\"_blank\" href=https://colab.research.google.com/notebooks/data_table.ipynb>data table notebook</a>'\n",
              "            + ' to learn more about interactive tables.';\n",
              "          element.innerHTML = '';\n",
              "          dataTable['output_type'] = 'display_data';\n",
              "          await google.colab.output.renderOutput(dataTable, element);\n",
              "          const docLink = document.createElement('div');\n",
              "          docLink.innerHTML = docLinkHtml;\n",
              "          element.appendChild(docLink);\n",
              "        }\n",
              "      </script>\n",
              "    </div>\n",
              "  </div>\n",
              "  "
            ]
          },
          "metadata": {},
          "execution_count": 398
        }
      ]
    },
    {
      "cell_type": "code",
      "source": [
        "# Rewrite decision tree regressor with the optimized value for max_depth\n",
        "dec_tree_5 = DecisionTreeRegressor(max_depth = 5, random_state = 42)\n",
        "dec_pipe5 = make_pipeline(preprocessor, dec_tree_5)\n",
        "dec_pipe5.fit(X_train,y_train)\n",
        "train_5_score = dec_pipe5.score(X_train, y_train)\n",
        "test_5_score = dec_pipe5.score(X_test, y_test)\n",
        "print(train_5_score)\n",
        "print(test_5_score)\n",
        "\n"
      ],
      "metadata": {
        "id": "7j22V40No6ma",
        "outputId": "09772ea3-54ad-4ad8-feef-daf32ba674dd",
        "colab": {
          "base_uri": "https://localhost:8080/"
        }
      },
      "execution_count": 399,
      "outputs": [
        {
          "output_type": "stream",
          "name": "stdout",
          "text": [
            "0.603931621085344\n",
            "0.5947201327889511\n"
          ]
        }
      ]
    },
    {
      "cell_type": "code",
      "source": [
        "# Make predictions for test and train\n",
        "pred_train3 = dec_pipe5.predict(X_train)\n",
        "pred_test3 = dec_pipe5.predict(X_test)"
      ],
      "metadata": {
        "id": "CQsn28Dnq9PH"
      },
      "execution_count": 400,
      "outputs": []
    },
    {
      "cell_type": "code",
      "source": [
        "# Calculate RMSE \n",
        "train_RMSE = np.sqrt(np.mean(np.abs(pred_train3- y_train)**2))\n",
        "test_RMSE = np.sqrt(np.mean(np.abs(pred_test3- y_test)**2))\n",
        "\n",
        "print(f'Model Training RMSE: {train_RMSE}')\n",
        "print(f'Model Testing RMSE: {test_RMSE}')"
      ],
      "metadata": {
        "id": "wwl1Oz7FsTKv",
        "outputId": "b8f160a4-02e9-4461-eb95-01fadd12a685",
        "colab": {
          "base_uri": "https://localhost:8080/"
        }
      },
      "execution_count": 401,
      "outputs": [
        {
          "output_type": "stream",
          "name": "stdout",
          "text": [
            "Model Training RMSE: 1082.6572972836627\n",
            "Model Testing RMSE: 1057.4298789236952\n"
          ]
        }
      ]
    },
    {
      "cell_type": "code",
      "source": [
        "# Measuring model performance\n",
        "print(f\"Train R-Squared: { round( train_5_score,3) }\")\n",
        "print(f\"Test R-Squared: { round( test_5_score,3) }\")"
      ],
      "metadata": {
        "id": "PColGYFwqbGc",
        "outputId": "ae218ba4-fc5c-48c0-deb4-e23d7d185e65",
        "colab": {
          "base_uri": "https://localhost:8080/"
        }
      },
      "execution_count": 402,
      "outputs": [
        {
          "output_type": "stream",
          "name": "stdout",
          "text": [
            "Train R-Squared: 0.604\n",
            "Test R-Squared: 0.595\n"
          ]
        }
      ]
    },
    {
      "cell_type": "markdown",
      "source": [
        "#Overall, I recommend the better model that is the **Decision Tree Model** because by comparing the two, the DTM has a higher R2 than the linear regression model. RMSE is also lower in the DTM meaning there are less larger errors in the model."
      ],
      "metadata": {
        "id": "lMxmQcpRtMfR"
      }
    }
  ]
}